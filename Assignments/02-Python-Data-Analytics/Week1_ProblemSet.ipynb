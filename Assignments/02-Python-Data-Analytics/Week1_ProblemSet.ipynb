{
 "cells": [
  {
   "cell_type": "markdown",
   "metadata": {},
   "source": [
    "<html>\n",
    "<body>\n",
    "<h1 style=\"background-color: #022851;\"><center>\n",
    "    <br><font size=\"+3.5\">\n",
    "    <font color=#FFBF00><b>Python for Data Analytics</b></font>\n",
    "   </font>\n",
    "    <br><font size=\"+1\">\n",
    "    <font color=#FFBF00><b>WEEK 1 | PROBLEM SET 1 </b></font>\n",
    "   </font>\n",
    "    <br><font size=\"+1\">\n",
    "    <font color=#FFBF00><b>Name:</b> Blue Ferdinand Alday </font> <br>\n",
    "    <font color=#FFBF00><b>Due Date:</b> November 5, 2023 </font>\n",
    "   </font> \n",
    "    </center>\n",
    "</h1>\n",
    "</body>\n",
    "</html>\n"
   ]
  },
  {
   "cell_type": "markdown",
   "metadata": {},
   "source": [
    "<font color=#022851>\n",
    "<font size=\"+2\">\n",
    "    <b>Problem Set Instructions</b> <br>\n",
    "</font>\n",
    "<font size=\"+.5\">\n",
    "Please compelete the following questions in this notebook and submit this notebook to canvas. Be sure to run each cell of the notebook before submission - a simple way to do this is the select 'Kernal' from the jupyter menu and select \"Restart & Run All\" to get a fresh result -- this is what the instrucotr will do to test your code as well. Remember to place any imports at the top of the notebook under these instructions.  Be sure to add any inline comments to your code to ensure your code is readable. <br>\n",
    "\n",
    "</font>\n",
    "</font>"
   ]
  },
  {
   "cell_type": "code",
   "execution_count": 1,
   "metadata": {},
   "outputs": [],
   "source": [
    "## IMPORTS GO HERE\n",
    "import pandas as pd\n",
    "import random        # use for bonus question, randomly choose from list values to populate dataframe"
   ]
  },
  {
   "cell_type": "markdown",
   "metadata": {},
   "source": [
    "## Problem 1 - 10 pts"
   ]
  },
  {
   "cell_type": "markdown",
   "metadata": {},
   "source": [
    "Create an int variable and convert it into a string. From a string convert it into a float. Print the variable after each conversion and check its type. "
   ]
  },
  {
   "cell_type": "code",
   "execution_count": 2,
   "metadata": {},
   "outputs": [
    {
     "name": "stdout",
     "output_type": "stream",
     "text": [
      "x is of type <class 'int'>\n",
      "x is of type <class 'str'>\n",
      "x is of type <class 'float'>\n"
     ]
    }
   ],
   "source": [
    "# start with an integer, check its type\n",
    "x = 1\n",
    "print('x is of type', type(x))\n",
    "\n",
    "# convert to string, check its type\n",
    "x = str(x) \n",
    "print('x is of type', type(x))\n",
    "\n",
    "# convert to float, check its type\n",
    "x = float(x)\n",
    "print('x is of type',  type(x))\n"
   ]
  },
  {
   "cell_type": "markdown",
   "metadata": {},
   "source": [
    "## Problem 2 - 20 pts"
   ]
  },
  {
   "cell_type": "markdown",
   "metadata": {},
   "source": [
    "Create an if/else statement that determines if a variable is odd or even. Test this function by passing three different datatypes and write a sentence about your findings. "
   ]
  },
  {
   "cell_type": "code",
   "execution_count": 3,
   "metadata": {},
   "outputs": [
    {
     "name": "stdout",
     "output_type": "stream",
     "text": [
      "0 is of type <class 'int'> and is even!\n",
      "1 is of type <class 'int'> and is odd!\n",
      "False is of type <class 'bool'> and is even!\n",
      "True is of type <class 'bool'> and is odd!\n",
      "0.0 is of type <class 'float'> and is even!\n",
      "1.0 is of type <class 'float'> and is odd!\n",
      "\n",
      "Booleans can be treated as int depending on value, and the code works for floats with no decimals.\n"
     ]
    }
   ],
   "source": [
    "def even_or_odd(number):\n",
    "\n",
    "# Takes a number and determines if its even or odd\n",
    "# and prints out the result\n",
    "\n",
    "#Disclaimer: I used the floats as whole numbers to demonstrate the simple cases without having to deal with decimals\n",
    "#Determining whether a float number with a decimal is odd or even would be more complex\n",
    "\n",
    "\n",
    "    if number % 2 == 1:\n",
    "        result = \"and is odd!\"\n",
    "    else:\n",
    "        result = \"and is even!\"\n",
    "    \n",
    "    print(number,'is of type',  type(number), result)\n",
    "\n",
    "# Use integers\n",
    "even_or_odd(0) # even\n",
    "even_or_odd(1) # odd\n",
    "\n",
    "# Use Booleans\n",
    "even_or_odd(False) # even\n",
    "even_or_odd(True)  # odd\n",
    "\n",
    "# Use floats\n",
    "even_or_odd(0.0) # even\n",
    "even_or_odd(1.0) # odd\n",
    "\n",
    "# Observation\n",
    "print()\n",
    "print('Booleans can be treated as int depending on value, and the code works for floats with no decimals.')\n",
    "\n"
   ]
  },
  {
   "cell_type": "markdown",
   "metadata": {},
   "source": [
    "## Problem 3 - 50 pts"
   ]
  },
  {
   "cell_type": "markdown",
   "metadata": {},
   "source": [
    "a) Create and if/else statement that simulates your thought process while at a stop light (Red, Green, Yellow) and prints a statement of your action (Stop, Keep Driving, Speed up, etc). Display the result of at least one variable being passed. "
   ]
  },
  {
   "cell_type": "code",
   "execution_count": 4,
   "metadata": {},
   "outputs": [
    {
     "name": "stdout",
     "output_type": "stream",
     "text": [
      "\n",
      "Slow down to a safe stop before the light since it is Red.\n",
      "\n",
      "If your car can safely cross the intersection without causing accidents, keep driving. If not,\n",
      "slow down since the light is Yellow.\n",
      "\n",
      "Maintain safe driving speed and distance from other cars since the light is Green.\n",
      "\n",
      "Be careful since the light is not Red, Yellow, or Green and may be defective.\n"
     ]
    }
   ],
   "source": [
    "def stoplight(color):\n",
    "    \n",
    "    # Takes a color for the stoplight and returns a string describing my driving behavior\n",
    "\n",
    "    if color == 'Red':\n",
    "        result = \"Slow down to a safe stop before the light since it is \" + color + \".\"\n",
    "    elif color == \"Yellow\":\n",
    "        result = \"If your car can safely cross the intersection without causing accidents, keep driving. If not,\\nslow down since the light is \" + color + \".\"\n",
    "    elif color == \"Green\":    \n",
    "        result = \"Maintain safe driving speed and distance from other cars since the light is \" + color + \".\"\n",
    "    else:\n",
    "        result = \"Be careful since the light is not Red, Yellow, or Green and may be defective.\"\n",
    "        \n",
    "    return result\n",
    "\n",
    "print()\n",
    "print(stoplight('Red'))  # Behavior with a red light\n",
    "\n",
    "print()\n",
    "print(stoplight('Yellow')) # Behavior with a yellow light\n",
    "\n",
    "print()\n",
    "print(stoplight('Green'))  # Behavior with a green light\n",
    "\n",
    "print()\n",
    "print(stoplight('No color')) # Behavior with a light that is not red, yellow, or green\n",
    "\n"
   ]
  },
  {
   "cell_type": "markdown",
   "metadata": {},
   "source": [
    "b) Within the above if/else statement, write an if/else statement that adds in a layer for the yellow light of whether or not there is a car stopped in front of you. How does this change your resulted/printed action? Display the results of testing your if/else system at least once."
   ]
  },
  {
   "cell_type": "code",
   "execution_count": 5,
   "metadata": {},
   "outputs": [
    {
     "name": "stdout",
     "output_type": "stream",
     "text": [
      "\n",
      "Slow down to a safe stop before the light since it is Red.\n",
      "\n",
      "If your car can safely cross the intersection without causing accidents, keep driving. If not,\n",
      "slow down since the light is Yellow.\n",
      "\n",
      "If your car can safely cross the intersection without causing accidents and the car ahead of you is crossing,\n",
      "keep driving. Otherwise, if they are stopped, safely stop behind them since the light is Yellow.\n",
      "\n",
      "Maintain safe driving speed and distance from other cars since the light is Green.\n",
      "\n",
      "Be careful since the light is not Red, Yellow, or Green and may be defective.\n"
     ]
    }
   ],
   "source": [
    "def stoplight_with_defaults(color, car=False):\n",
    "    \n",
    "    # Takes a color for the stoplight and an optional car being stopped in front of you\n",
    "    # and returns a string describing my driving behavior\n",
    "    \n",
    "    # Whether there is a car or not is taken into consideration during a yellow light\n",
    "    \n",
    "    # Disclaimer: If we do not include the \"car\" parameter in the function definition like it is in Problem 3a, \n",
    "    # there would not be a way to verify the 2 behaviours possible during a yellow light\n",
    "    # So I wrote a slightly different function than in 3a\n",
    "    \n",
    "    \n",
    "    if color == 'Red':\n",
    "        result = \"Slow down to a safe stop before the light since it is \" + color + \".\"\n",
    "    elif color == \"Yellow\":\n",
    "        if car:    # there is a car in front of you\n",
    "            result = \"If your car can safely cross the intersection without causing accidents and the car ahead of you is crossing,\\nkeep driving. Otherwise, if they are stopped, safely stop behind them since the light is \" + color + \".\"\n",
    "        else:    \n",
    "            result = \"If your car can safely cross the intersection without causing accidents, keep driving. If not,\\nslow down since the light is \" + color + \".\"\n",
    "    elif color == \"Green\":    \n",
    "        result = \"Maintain safe driving speed and distance from other cars since the light is \" + color + \".\"\n",
    "    else:\n",
    "        result = \"Be careful since the light is not Red, Yellow, or Green and may be defective.\"\n",
    "        \n",
    "    return result\n",
    "\n",
    "print()\n",
    "print(stoplight_with_defaults('Red'))  # Behavior with a red light\n",
    "\n",
    "print()\n",
    "print(stoplight_with_defaults('Yellow')) # Behavior with a yellow light, and no car ahead.\n",
    "\n",
    "print()\n",
    "print(stoplight_with_defaults('Yellow', True)) # Behavior with a yellow light, and a car ahead is stopped.\n",
    "\n",
    "print()\n",
    "print(stoplight_with_defaults('Green'))  # Behavior with a green light and a car ahead\n",
    "\n",
    "print()\n",
    "print(stoplight_with_defaults('No color')) # Behavior with a light that is not red, yellow, or green"
   ]
  },
  {
   "cell_type": "markdown",
   "metadata": {},
   "source": [
    "## Problem 4 - 20 pts"
   ]
  },
  {
   "cell_type": "markdown",
   "metadata": {},
   "source": [
    "Read in the dataset found at this link: https://www.kaggle.com/datasets/carlsonhoo/university-social-anxiety-survey as a pandas dataframe. Print the top 10 rows of the dataset by using the df.head(10) command. Write three questions you might ask of this dataset. "
   ]
  },
  {
   "cell_type": "code",
   "execution_count": 6,
   "metadata": {},
   "outputs": [
    {
     "name": "stdout",
     "output_type": "stream",
     "text": [
      "             Timestamp  Gender Student      Age  Marital  \\\n",
      "0      12/12/2019 2:06  Female     Yes  21 - 30   Single   \n",
      "1     12/12/2019 21:41    Male     Yes  21 - 30   Single   \n",
      "2     12/12/2019 21:42  Female     Yes  21 - 30   Single   \n",
      "3     12/12/2019 21:43  Female     Yes  21 - 30   Single   \n",
      "4     12/12/2019 21:43    Male     Yes  21 - 30   Single   \n",
      "5     12/12/2019 21:47  Female     Yes  21 - 30   Single   \n",
      "6     12/12/2019 21:52  Female     Yes  31 - 40  Married   \n",
      "7     12/12/2019 22:38  Female     Yes  21 - 30   Single   \n",
      "8   12/13/2019 7:19:36  Female     Yes  21 - 30   Single   \n",
      "9  12/13/2019 12:10:15    Male     Yes  21 - 30   Single   \n",
      "\n",
      "                          Q1  Q2  Q3  Q4  Q5  Q6  Q7  \n",
      "0  Less than 4 hours per day   3   3   3   3   4   1  \n",
      "1  Less than 2 hours per day   3   3   2   2   4   4  \n",
      "2  4 hours and above per day   1   5   2   4   5   4  \n",
      "3  Less than 1 hours per day   4   4   3   3   3   1  \n",
      "4  Less than 1 hours per day   3   5   2   3   4   4  \n",
      "5  Less than 2 hours per day   2   5   2   3   3   2  \n",
      "6  Less than 2 hours per day   2   4   3   3   2   1  \n",
      "7  4 hours and above per day   4   4   3   5   5   3  \n",
      "8  4 hours and above per day   5   4   3   4   4   4  \n",
      "9  4 hours and above per day   2   5   3   2   5   2  \n",
      "\n",
      "Questions I have about this dataset:\n",
      "1. What do the values mean for each of the questions 2 through 7? (i.e What does a low number vs a high number mean?)\n",
      "2. The dataset does not include ages anyone over 40. Why were they not represented?\n",
      "3. How was authenticity checked? Could you only submit your data once?\n"
     ]
    }
   ],
   "source": [
    "# including the Questions asked for this dataset for readability\n",
    "'''\n",
    "    Q1: How many hours per day do you spend on social media?\n",
    "    Q2: How do you feel being the center of attention\n",
    "    Q3: Working while being observed\n",
    "    Q4: Talking face to face with someone you don't know very well\n",
    "    Q5: Expressing disagreement or disapproval to someone you don't know very well\n",
    "    Q6: Are you extremely conscious of your actions when in social settings because you fear they might offend someone or you could be rejected?,\n",
    "    Q7: Do you feel anxious or panicky before social situations?\n",
    "'''\n",
    "\n",
    "# printing out the top 10 rows from the input file\n",
    "df = pd.read_csv('Social_Anxiety_Survey_Master.csv')\n",
    "print(df.head(10))\n",
    "\n",
    "print()\n",
    "print('Questions I have about this dataset:')\n",
    "print('1. What do the values mean for each of the questions 2 through 7? (i.e What does a low number vs a high number mean?)')\n",
    "print('2. The dataset does not include ages anyone over 40. Why were they not represented?')\n",
    "print('3. How was authenticity checked? Could you only submit your data once?')\n"
   ]
  },
  {
   "cell_type": "markdown",
   "metadata": {},
   "source": [
    "## Bonus Question"
   ]
  },
  {
   "cell_type": "markdown",
   "metadata": {},
   "source": [
    "Create a pandas dataframe, with 100 rows and 5 columns, filled with random variables."
   ]
  },
  {
   "cell_type": "code",
   "execution_count": 7,
   "metadata": {},
   "outputs": [
    {
     "name": "stdout",
     "output_type": "stream",
     "text": [
      "    Gender Age Group Employed? Renter? Car Owner?\n",
      "0     Male     30-39       Yes      No        Yes\n",
      "1     Male     30-39        No      No        Yes\n",
      "2   Female     20-29       Yes     Yes        Yes\n",
      "3     Male     30-39       Yes      No         No\n",
      "4   Female     20-29        No     Yes         No\n",
      "..     ...       ...       ...     ...        ...\n",
      "95  Female      1-19        No      No        Yes\n",
      "96  Female     20-29        No     Yes         No\n",
      "97    Male     20-29       Yes      No         No\n",
      "98    Male     40-49        No     Yes         No\n",
      "99    Male     20-29       Yes     Yes         No\n",
      "\n",
      "[100 rows x 5 columns]\n"
     ]
    }
   ],
   "source": [
    "# create lists to be used in the dataframe columns\n",
    "gender = ['Male', 'Female']\n",
    "age_group = ['1-19', '20-29', '30-39', '40-49', '50-59', '60-69', '70+']\n",
    "\n",
    "#use Yes or No for these columns:\n",
    "# employed?\n",
    "# renter?\n",
    "# car owner?\n",
    "menu = ['Yes', 'No']\n",
    "\n",
    "# generate random data for 100 rows of 5 columns using a list comprehension\n",
    "data = [[random.choice(gender), random.choice(age_group), random.choice(menu), random.choice(menu), random.choice(menu)] for age in range(100)]\n",
    "\n",
    "# create dataframe passing data and column labels\n",
    "df = pd.DataFrame(data, columns=['Gender', 'Age Group', 'Employed?', 'Renter?', 'Car Owner?']) \n",
    "\n",
    "# center data as needed, \n",
    "# courtesy of https://stackoverflow.com/questions/17232013/how-to-set-the-pandas-dataframe-data-left-right-alignment\n",
    "\n",
    "dfStyler = df.style.set_properties(**{'text-align': 'center'})\n",
    "dfStyler.set_table_styles([dict(selector='th', props=[('text-align', 'center')])])\n",
    "\n",
    "# print dataframe\n",
    "print (df)\n"
   ]
  }
 ],
 "metadata": {
  "kernelspec": {
   "display_name": "Python 3 (ipykernel)",
   "language": "python",
   "name": "python3"
  },
  "language_info": {
   "codemirror_mode": {
    "name": "ipython",
    "version": 3
   },
   "file_extension": ".py",
   "mimetype": "text/x-python",
   "name": "python",
   "nbconvert_exporter": "python",
   "pygments_lexer": "ipython3",
   "version": "3.11.4"
  }
 },
 "nbformat": 4,
 "nbformat_minor": 4
}
