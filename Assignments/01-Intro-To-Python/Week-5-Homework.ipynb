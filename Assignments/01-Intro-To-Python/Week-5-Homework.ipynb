{
 "cells": [
  {
   "cell_type": "markdown",
   "id": "0d4b3319",
   "metadata": {},
   "source": [
    "# Week 5 - Homework\n",
    "\n",
    "When you want to submit your code, don't forget to use the *File* > *Download as* > *Python (.py)* option and __name your file `week5.py`__. Gradescope won't be able to find your file unless you name it `week5.py`."
   ]
  },
  {
   "cell_type": "code",
   "execution_count": 1,
   "id": "2b61ab8f",
   "metadata": {},
   "outputs": [
    {
     "name": "stdout",
     "output_type": "stream",
     "text": [
      "True : ''\n",
      "True : \"Haikus are easy\\nBut sometimes they don't make sense\\nRefrigerator\\n\"\n"
     ]
    }
   ],
   "source": [
    "def erase_file_contents(filename: str) -> str:\n",
    "    \"\"\"After this function is called, the specified file should have no data in it.\"\"\"\n",
    "    # open the file with write, and close it without writing any data to it.\n",
    "    with open(filename, 'w') as handler:\n",
    "        handler.close()\n",
    "        \n",
    "\n",
    "\n",
    "def get_text_from_file(filename: str) -> str:\n",
    "    \"\"\"Return the text found in the specified file.\"\"\"\n",
    "    # add each line of the file to variable lines and return data stored in variable lines\n",
    "    lines = ''\n",
    "    \n",
    "    with open(filename, 'r') as handler:\n",
    "        for line in handler:\n",
    "            lines += line\n",
    "        return lines\n",
    "    \n",
    "\n",
    "\n",
    "def keep_writing(filename: str, text: str) -> None:\n",
    "    \"\"\"Add the text to the specified file.\"\"\"\n",
    "    # append to existing file specified by filename, adding text to the file each time function is called\n",
    "    with open(filename, 'a') as handler:\n",
    "        handler.write(text)\n",
    "\n",
    "\n",
    "\n",
    "# True/False, does each result match the expected output?\n",
    "\n",
    "name_of_file = 'keep_writing1.txt'\n",
    "erase_file_contents(name_of_file)\n",
    "actual = get_text_from_file(name_of_file)\n",
    "expected = ''\n",
    "print(actual == expected, ':', repr(actual))\n",
    "\n",
    "name_of_file = 'keep_writing2.txt'\n",
    "erase_file_contents(name_of_file)\n",
    "keep_writing(name_of_file, \"Haikus are easy\\n\")\n",
    "keep_writing(name_of_file, \"But sometimes they don't make sense\\n\")\n",
    "keep_writing(name_of_file, \"Refrigerator\\n\")\n",
    "actual = get_text_from_file(name_of_file)\n",
    "expected = \"Haikus are easy\\nBut sometimes they don't make sense\\nRefrigerator\\n\"\n",
    "print(actual == expected, ':', repr(actual))"
   ]
  },
  {
   "cell_type": "code",
   "execution_count": 2,
   "id": "cae2494c",
   "metadata": {},
   "outputs": [
    {
     "name": "stdout",
     "output_type": "stream",
     "text": [
      "True : 'abc\\n\\nd e'\n",
      "True : 'aaaaaaaaaa'\n"
     ]
    }
   ],
   "source": [
    "def clean_text(text: str, chars_to_remove: str) -> str:\n",
    "    \"\"\"\n",
    "    Clean the text by:\n",
    "        - standardizing the text casing (to lowercase)\n",
    "        - removing the characters specified\n",
    "    \"\"\"\n",
    "    # lowercase\n",
    "    text = text.lower()\n",
    "    \n",
    "    # Replace chars_to_remove with ''\n",
    "    for char in range(0, len(chars_to_remove)):\n",
    "        text = text.replace(chars_to_remove[char], '')\n",
    "\n",
    "    return(text)\n",
    "\n",
    "\n",
    "# True/False, does each result match the expected output?\n",
    "\n",
    "result = clean_text('a\\tb\\tc\\n\\nd e', '\\t')\n",
    "print(result == 'abc\\n\\nd e', ':', repr(result))\n",
    "\n",
    "result = clean_text('A man. A plan. A canal. Panama.', 'clmnp .')\n",
    "print(result == 'aaaaaaaaaa', ':', repr(result))"
   ]
  },
  {
   "cell_type": "code",
   "execution_count": 5,
   "id": "42e94c3e",
   "metadata": {},
   "outputs": [
    {
     "name": "stdout",
     "output_type": "stream",
     "text": [
      "True : ['abcd', 'efg', 'hi', 'jk', 'lmnop', 'qrs', 'tuv', 'w', 'x', 'y', 'and', 'z']\n",
      "True : ['A', 'man.', 'A', 'plan.', 'A', 'canal.', 'Panama.']\n",
      "['The', 'Zen', 'of', 'Python,', 'by', 'Tim', 'Peters', 'Beautiful', 'is', 'better', 'than', 'ugly.', 'Explicit', 'is', 'better', 'than', 'implicit.', 'Simple', 'is', 'better', 'than', 'complex.', 'Complex', 'is', 'better', 'than', 'complicated.', 'Flat', 'is', 'better', 'than', 'nested.', 'Sparse', 'is', 'better', 'than', 'dense.', 'Readability', 'counts.', 'Special', 'cases', \"aren't\", 'special', 'enough', 'to', 'break', 'the', 'rules.', 'Although', 'practicality', 'beats', 'purity.', 'Errors', 'should', 'never', 'pass', 'silently.', 'Unless', 'explicitly', 'silenced.', 'In', 'the', 'face', 'of', 'ambiguity,', 'refuse', 'the', 'temptation', 'to', 'guess.', 'There', 'should', 'be', 'one--', 'and', 'preferably', 'only', 'one', '--obvious', 'way', 'to', 'do', 'it.', 'Although', 'that', 'way', 'may', 'not', 'be', 'obvious', 'at', 'first', 'unless', \"you're\", 'Dutch.', 'Now', 'is', 'better', 'than', 'never.', 'Although', 'never', 'is', 'often', 'better', 'than', '*right*', 'now.', 'If', 'the', 'implementation', 'is', 'hard', 'to', 'explain,', \"it's\", 'a', 'bad', 'idea.', 'If', 'the', 'implementation', 'is', 'easy', 'to', 'explain,', 'it', 'may', 'be', 'a', 'good', 'idea.', 'Namespaces', 'are', 'one', 'honking', 'great', 'idea', '--', \"let's\", 'do', 'more', 'of', 'those!', 'https://peps.python.org/pep-0020/']\n",
      "True : ['The', 'Zen', 'of', 'Python,', 'by', 'Tim', 'Peters', 'Beautiful', 'is', 'better', 'than', 'ugly.', 'Explicit', 'is', 'better', 'than', 'implicit.', 'Simple', 'is', 'better', 'than', 'complex.', 'Complex', 'is', 'better', 'than', 'complicated.', 'Flat', 'is', 'better', 'than', 'nested.', 'Sparse', 'is', 'better', 'than', 'dense.', 'Readability', 'counts.', 'Special', 'cases', \"aren't\", 'special', 'enough', 'to', 'break', 'the', 'rules.', 'Although', 'practicality', 'beats', 'purity.', 'Errors', 'should', 'never', 'pass', 'silently.', 'Unless', 'explicitly', 'silenced.', 'In', 'the', 'face', 'of', 'ambiguity,', 'refuse', 'the', 'temptation', 'to', 'guess.', 'There', 'should', 'be', 'one--', 'and', 'preferably', 'only', 'one', '--obvious', 'way', 'to', 'do', 'it.', 'Although', 'that', 'way', 'may', 'not', 'be', 'obvious', 'at', 'first', 'unless', \"you're\", 'Dutch.', 'Now', 'is', 'better', 'than', 'never.', 'Although', 'never', 'is', 'often', 'better', 'than', '*right*', 'now.', 'If', 'the', 'implementation', 'is', 'hard', 'to', 'explain,', \"it's\", 'a', 'bad', 'idea.', 'If', 'the', 'implementation', 'is', 'easy', 'to', 'explain,', 'it', 'may', 'be', 'a', 'good', 'idea.', 'Namespaces', 'are', 'one', 'honking', 'great', 'idea', '--', \"let's\", 'do', 'more', 'of', 'those!', 'https://peps.python.org/pep-0020/']\n"
     ]
    }
   ],
   "source": [
    "def get_words(lines: list[str]) -> list[str]:\n",
    "    \"\"\"Given a list of lines of text, return a list of individual words.\"\"\"\n",
    "    \n",
    "    # Get individual words from each list item and put them into words_list list\n",
    "    \n",
    "    words_list = []\n",
    "    \n",
    "    # for each list item, get the word, strip whitespace, and append to the words_list\n",
    "    for item in lines:\n",
    "        word = \"\"\n",
    "        \n",
    "        for x in range(0, len(item)):\n",
    "            \n",
    "            if item[x] != \" \":\n",
    "                word += item[x]\n",
    "            elif item[x] == \" \":\n",
    "                words_list.append(word.strip('\\t\\n'))\n",
    "                word = \"\"\n",
    "                \n",
    "            #Don't forget the last word\n",
    "            if (x == len(item)-1) and word.strip('\\t\\n') != '':\n",
    "                words_list.append(word.strip('\\t\\n'))\n",
    "                    \n",
    "    return(words_list)\n",
    "\n",
    "\n",
    "# True/False, does each result match the expected output?\n",
    "\n",
    "actual = get_words(['abcd efg hi jk lmnop', 'qrs', 'tuv', 'w', 'x', 'y and z'])\n",
    "expected = ['abcd', 'efg', 'hi', 'jk', 'lmnop', 'qrs', 'tuv', 'w', 'x', 'y', 'and', 'z']\n",
    "print(actual == expected, ':', repr(actual))\n",
    "\n",
    "actual = get_words(['A man. A plan.\\n', 'A canal. Panama.\\n'])\n",
    "expected = ['A', 'man.', 'A', 'plan.', 'A', 'canal.', 'Panama.']\n",
    "print(actual == expected, ':', repr(actual))\n",
    "\n",
    "actual = get_words(['The Zen of Python, by Tim Peters\\n', '\\n', 'Beautiful is better than ugly.\\n', 'Explicit is better than implicit.\\n', 'Simple is better than complex.\\n', 'Complex is better than complicated.\\n', 'Flat is better than nested.\\n', 'Sparse is better than dense.\\n', 'Readability counts.\\n', \"Special cases aren't special enough to break the rules.\\n\", 'Although practicality beats purity.\\n', 'Errors should never pass silently.\\n', 'Unless explicitly silenced.\\n', 'In the face of ambiguity, refuse the temptation to guess.\\n', 'There should be one-- and preferably only one --obvious way to do it.\\n', \"Although that way may not be obvious at first unless you're Dutch.\\n\", 'Now is better than never.\\n', 'Although never is often better than *right* now.\\n', \"If the implementation is hard to explain, it's a bad idea.\\n\", 'If the implementation is easy to explain, it may be a good idea.\\n', \"Namespaces are one honking great idea -- let's do more of those!\\n\", '\\n', 'https://peps.python.org/pep-0020/\\n']\n",
    ")\n",
    "print(actual)\n",
    "\n"
   ]
  },
  {
   "cell_type": "code",
   "execution_count": 4,
   "id": "4aad14dd",
   "metadata": {},
   "outputs": [
    {
     "name": "stdout",
     "output_type": "stream",
     "text": [
      "True : ['Panama', 'a', 'canal', 'man', 'plan']\n",
      "True : ['a', 'chuck', 'could', 'how', 'if', 'much', 'wood', 'woodchuck', 'would']\n"
     ]
    }
   ],
   "source": [
    "def sorted_unique_words(words: list[str]) -> list[str]:\n",
    "    \"\"\"Return a list of the unique words in `words` in alphabetical order.\"\"\"\n",
    "    \n",
    "    # NOTE: In this context, 'alphabetical' means natural string order:\n",
    "    #       Ant < Zebra < aardvark < zoo\n",
    "    # \n",
    "    # There are two easy ways to do this. You'll use either one or the other, but not both.\n",
    "    # HINT: https://docs.python.org/3/howto/sorting.html\n",
    "    \n",
    "    #Keep a unique_words list, then sort the list at the end and return it \n",
    "    unique_words = []\n",
    "    \n",
    "    for word in words:\n",
    "        if word not in unique_words:\n",
    "            unique_words.append(word)\n",
    "    unique_words.sort()\n",
    "    return (unique_words)\n",
    "    \n",
    "\n",
    "# True/False, does each result match the expected output?\n",
    "\n",
    "actual = sorted_unique_words(['a', 'man', 'a', 'plan', 'a', 'canal', 'Panama'])\n",
    "expected = ['Panama', 'a', 'canal', 'man', 'plan']\n",
    "print(actual == expected, ':', repr(actual))\n",
    "\n",
    "actual = sorted_unique_words(['how', 'much', 'wood', 'would', 'a', 'woodchuck', 'chuck', 'if', 'a', 'woodchuck', 'could', 'chuck', 'wood'])\n",
    "expected = ['a', 'chuck', 'could', 'how', 'if', 'much', 'wood', 'woodchuck', 'would']\n",
    "print(actual == expected, ':', repr(actual))"
   ]
  },
  {
   "cell_type": "code",
   "execution_count": 5,
   "id": "58da3f47",
   "metadata": {},
   "outputs": [
    {
     "name": "stdout",
     "output_type": "stream",
     "text": [
      "True : {'a': 0, 'b': 2, 'c': 1}\n",
      "True : {'ward': 0, 'wood': 2, 'word': 0, 'would': 1}\n",
      "True : {None: 1, True: 3, False: 4}\n"
     ]
    }
   ],
   "source": [
    "def count_objects(unique_items: list[object], many_items: list[object]) -> dict[object, int]:\n",
    "    \"\"\"Return a dictionary telling how many times each item in `unique_items` shows up in `many_items`.\"\"\"\n",
    "    \n",
    "    #Keep a unique_items_count_dict dictionary \n",
    "    \n",
    "    #For each word in the unique_items list, go through each word in the many_items list\n",
    "    #     If word matches current item in the many_items list,\n",
    "    #          increment count\n",
    "    #     Once the many_items list has been searched, write word and count to the dictionary and \n",
    "    #     go to the next word in unique_items\n",
    "    \n",
    "    #Return dictionary\n",
    "    \n",
    "    unique_items_count_dict = {}\n",
    "    current_count = 0\n",
    "            \n",
    "    for unique_word in unique_items:\n",
    "        \n",
    "        current_count = 0\n",
    "        \n",
    "        for current_word in many_items:\n",
    "            if unique_word == current_word:\n",
    "                current_count += 1 \n",
    "        unique_items_count_dict[unique_word] = current_count\n",
    "            \n",
    "    return(unique_items_count_dict)\n",
    "    \n",
    "\n",
    "# True/False, does each result match the expected output?\n",
    "\n",
    "actual = count_objects(['a', 'b', 'c'], ['d', 'b', 'aaa', 'b', 'c', 'cat'])\n",
    "expected = {'a': 0, 'b': 2, 'c': 1}\n",
    "print(actual == expected, ':', repr(actual))\n",
    "\n",
    "actual = count_objects(\n",
    "    ['ward', 'wood', 'word', 'would'],\n",
    "    ['how', 'much', 'wood', 'would', 'a', 'woodchuck', 'chuck', 'if', 'a', 'woodchuck', 'could', 'chuck', 'wood'])\n",
    "expected = {'ward': 0, 'wood': 2, 'word': 0, 'would': 1}\n",
    "print(actual == expected, ':', repr(actual))\n",
    "\n",
    "actual = count_objects(\n",
    "    [None, True, False],\n",
    "    [0, 1, 0, True, True, -1.0, False, None, 0])\n",
    "expected = {None: 1, True: 3, False: 4}\n",
    "print(actual == expected, ':', repr(actual))"
   ]
  },
  {
   "cell_type": "code",
   "execution_count": 6,
   "id": "4b57e72d",
   "metadata": {},
   "outputs": [
    {
     "name": "stdout",
     "output_type": "stream",
     "text": [
      "True : '  A'\n",
      "True : '      10'\n"
     ]
    }
   ],
   "source": [
    "def right_align(text: str, width: int) -> str:\n",
    "    \"\"\"Right-align the text for a column of the specified width.\"\"\"\n",
    "    padding = \"\"\n",
    "    #insert a space up to length of width - length of text\n",
    "    for x in range(width-len(text)):\n",
    "        padding += \" \"\n",
    "\n",
    "    padding += text\n",
    "    return(padding)\n",
    "# True/False, does each result match the expected output?\n",
    "\n",
    "actual = right_align('A', 3)\n",
    "expected = '  A'\n",
    "print(actual == expected, ':', repr(actual))\n",
    "\n",
    "actual = right_align('10', 8)\n",
    "expected = '      10'\n",
    "print(actual == expected, ':', repr(actual))"
   ]
  },
  {
   "cell_type": "markdown",
   "id": "6d6193ae",
   "metadata": {},
   "source": [
    "### Remember: Use the *File* > *Download as* > *Python (.py)* option and name your file `week5.py`."
   ]
  }
 ],
 "metadata": {
  "kernelspec": {
   "display_name": "Python 3 (ipykernel)",
   "language": "python",
   "name": "python3"
  },
  "language_info": {
   "codemirror_mode": {
    "name": "ipython",
    "version": 3
   },
   "file_extension": ".py",
   "mimetype": "text/x-python",
   "name": "python",
   "nbconvert_exporter": "python",
   "pygments_lexer": "ipython3",
   "version": "3.11.4"
  }
 },
 "nbformat": 4,
 "nbformat_minor": 5
}
