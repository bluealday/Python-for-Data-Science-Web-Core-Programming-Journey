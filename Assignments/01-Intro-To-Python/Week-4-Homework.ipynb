{
 "cells": [
  {
   "cell_type": "markdown",
   "id": "caf1ebe2",
   "metadata": {},
   "source": [
    "# Week 4 - Homework\n",
    "\n",
    "When you want to submit your code, don't forget to use the *File* > *Download as* > *Python (.py)* option and __name your file `week4.py`__. Gradescope won't be able to find your file unless you name it `week4.py`."
   ]
  },
  {
   "cell_type": "code",
   "execution_count": 1,
   "id": "1f0637f3",
   "metadata": {},
   "outputs": [
    {
     "name": "stdout",
     "output_type": "stream",
     "text": [
      "['h', 'e', 'l', 'l', 'o', 'w', 'o', 'r', 'l', 'd']\n",
      "['U', 'C', ' ', 'D', 'a', 'v', 'i', 's', 'C', 'P', 'E', 'P', 'y', 't', 'h', 'o', 'n']\n"
     ]
    }
   ],
   "source": [
    "def get_letters(words):\n",
    "    \"\"\"Given a list of words, return a list of all the characters in the words in the order they appear.\"\"\"\n",
    "    \n",
    "    characters_list = []                                  # list returned by function \n",
    "    \n",
    "    if len(words) == 0:\n",
    "        return []\n",
    "    else:\n",
    "        \n",
    "        for current_word in range (1, len(words) + 1):    # Go through each item in the words list and store the \n",
    "            word = words[current_word - 1]                # character of each word into characters_list\n",
    "            for letter in range(0, len(word)):\n",
    "                characters_list.append(word[letter]) \n",
    "            #end for loop of each word    \n",
    "        #end for loop for all words\n",
    "    \n",
    "        return (characters_list) \n",
    "\n",
    "    # Sample calls:\n",
    "#print(get_letters([]))\n",
    "print(get_letters(['hello', 'world']))  # displays: ['h', 'e', 'l', 'l', 'o', 'w', 'o', 'r', 'l', 'd']\n",
    "print(get_letters(['UC Davis', 'CPE', 'Python']))  # displays: ['U', 'C', ' ', 'D', 'a', 'v', 'i', 's', 'C', 'P', 'E', 'P', 'y', 't', 'h', 'o', 'n']"
   ]
  },
  {
   "cell_type": "code",
   "execution_count": 4,
   "id": "2ba2c16e",
   "metadata": {},
   "outputs": [
    {
     "name": "stdout",
     "output_type": "stream",
     "text": [
      "{'Davis': ['Jerome C.', 'Claud', 'Lemuel'], 'Hopper': ['Grace', 'Jim'], 'Goldberg': ['Adele']}\n"
     ]
    }
   ],
   "source": [
    "def shrink_name_list(names):\n",
    "    \"\"\"\n",
    "    Condense a list of names (last name first) into a dictionary\n",
    "    where each last name is mapped to a list of first and middle names.\n",
    "    Return the dictionary.\n",
    "    \"\"\"\n",
    "    names_dict = {}                                       # dictionary returned by function \n",
    "                                                          # temp list of common last names' first and middle names\n",
    "    repeat_count = 0\n",
    "    \n",
    "    if len(names) == 0:\n",
    "        return {}\n",
    "    else:\n",
    "        for current_name in range (1, len(names) + 1):    # Go through each full name in the list and store the \n",
    "            current_name = names[current_name - 1]        # last name as the key, a list of first and middle names as the value\n",
    "            common_list = []\n",
    "            if current_name.find(',') > -1:               # separate last and first/middle names\n",
    "                temp_tuple = current_name.partition(',')\n",
    "                last_name = (temp_tuple[0])\n",
    "                remaining_name = temp_tuple[2]\n",
    "        \n",
    "            if last_name not in names_dict:\n",
    "                common_list.append(remaining_name)\n",
    "                names_dict[last_name] = common_list\n",
    "            else:\n",
    "                common_list = names_dict[last_name]       # get values of stored remaining names list for last name \n",
    "                if remaining_name not in common_list:      \n",
    "                    common_list.append(remaining_name)    # add new remaining name to that list if unique\n",
    "                    temp_dict = {last_name: common_list}  # store in a temp dictionary\n",
    "                    names_dict.update(temp_dict)          # update names dictionary\n",
    "                 \n",
    "        #end for loop of each name    \n",
    "     \n",
    "        return (names_dict) \n",
    "\n",
    "# Sample call:\n",
    "\n",
    "print(shrink_name_list([\n",
    "    'Davis,Jerome C.', # https://en.wikipedia.org/wiki/Jerome_C._Davis\n",
    "    'Hopper,Grace',    # https://en.wikipedia.org/wiki/Grace_Hopper\n",
    "    'Davis,Claud',     # https://en.wikipedia.org/wiki/Claud_M._Davis\n",
    "    'Davis,Lemuel',    # https://en.wikipedia.org/wiki/Lemuel_Davis\n",
    "    'Goldberg,Adele',  # https://en.wikipedia.org/wiki/Adele_Goldberg_(computer_scientist)\n",
    "    'Hopper,Jim',      # https://en.wikipedia.org/wiki/Stranger_Things\n",
    "    'Hopper,Jim',      # https://en.wikipedia.org/wiki/Stranger_Things\n",
    "    'Hopper,Grace',    # https://en.wikipedia.org/wiki/Grace_Hopper\n",
    "])) # displays: {'Davis': [' Jerome C.', ' Claud', ' Lemuel'], 'Hopper': [' Grace', ' Jim'], 'Goldberg': [' Adele']}"
   ]
  },
  {
   "cell_type": "code",
   "execution_count": 3,
   "id": "227a07f0",
   "metadata": {},
   "outputs": [
    {
     "name": "stdout",
     "output_type": "stream",
     "text": [
      "{}\n",
      "{'a': 2, 'b': 1, 'aa': 1}\n",
      "{'a': 2, 'b': 4, 'aa': 2, 'ab': 1, 'ba': 3, 'Ab': 1, 'abc': 1}\n"
     ]
    }
   ],
   "source": [
    "def count_objects(data):\n",
    "    \"\"\"Given a list of immutable objects/values, return a dictionary containing the count of each unique value.\"\"\"\n",
    "    # NOTE: See this week's videos for a very similar example.\n",
    "    \n",
    "    unique_count_of_items_dict = {}                                  # list returned by function \n",
    "    \n",
    "    if len(data) == 0:\n",
    "        return {}\n",
    "    else:\n",
    "        \n",
    "        for current_item in range (1, len(data) + 1):     # Go through each item in the data list and store the \n",
    "            obj_val = data[current_item - 1]              # current item into the dictionary of unique items if \n",
    "            if obj_val not in unique_count_of_items_dict: # its not there yet\n",
    "                unique_count_of_items_dict[obj_val] = 1\n",
    "            else:\n",
    "                unique_count_of_items_dict[obj_val] += 1  # otherwise, add to the count since its already there\n",
    "        \n",
    "        #end for loop of each object or value\n",
    "    \n",
    "        return (unique_count_of_items_dict) \n",
    "\n",
    "\n",
    "# Sample calls:\n",
    "print(count_objects([]))                     # displays: {}\n",
    "print(count_objects(['a', 'b', 'a', 'aa']))  # displays: {'a': 2, 'b': 1, 'aa': 1}\n",
    "\n",
    "# displays: {'a': 2, 'b': 4, 'aa': 2, 'ab': 1, 'ba': 3, 'Ab': 1, 'abc': 1}\n",
    "print(count_objects(['a', 'b', 'a', 'aa', 'ab', 'aa', 'ba', 'Ab', 'b' , 'b', 'b', 'abc', 'ba', 'ba'])) \n"
   ]
  },
  {
   "cell_type": "code",
   "execution_count": 4,
   "id": "d0c25e27",
   "metadata": {},
   "outputs": [
    {
     "name": "stdout",
     "output_type": "stream",
     "text": [
      "0\n",
      "5\n",
      "12\n"
     ]
    }
   ],
   "source": [
    "def max_length(data):\n",
    "    \"\"\"Given a list of strings, return the length of the longest string.\"\"\"\n",
    "    # HINT: Imagine if someone asked you to find the longest name in a printed\n",
    "    #       phonebook. Think about the steps you would go through and use\n",
    "    #       that to plan out your implementation.\n",
    "        \n",
    "    longest_length = 0                                     \n",
    "    \n",
    "    if len(data) == 0:\n",
    "        return 0\n",
    "    else:\n",
    "        \n",
    "        for current_word in range (1, len(data) + 1):      # Go through each item in the word list and  \n",
    "            word = data[current_word - 1]                  # keep track the the longest word.\n",
    "            if longest_length < len(word):                 # if the current word's length is longer that what is stored\n",
    "                longest_length = len(word)                 # update the longest length value\n",
    "        #end for loop for all words\n",
    "    \n",
    "        return (longest_length) \n",
    "\n",
    "    \n",
    "# Sample calls:\n",
    "print(max_length([]))               # displays: 0\n",
    "print(max_length(['UC', 'Davis']))  # displays: 5\n",
    "print(max_length(['Skeleton', 'Goblin', 'Kobold', 'Lizard Man', 'Bandit', 'Zombie', 'Orc', 'Giant Spider', 'Ghoul'])) # displays 12"
   ]
  },
  {
   "cell_type": "markdown",
   "id": "f151e453",
   "metadata": {},
   "source": [
    "Remember: Use the *File* > *Download as* > *Python (.py)* option and name your file `week4.py`."
   ]
  }
 ],
 "metadata": {
  "kernelspec": {
   "display_name": "Python 3 (ipykernel)",
   "language": "python",
   "name": "python3"
  },
  "language_info": {
   "codemirror_mode": {
    "name": "ipython",
    "version": 3
   },
   "file_extension": ".py",
   "mimetype": "text/x-python",
   "name": "python",
   "nbconvert_exporter": "python",
   "pygments_lexer": "ipython3",
   "version": "3.11.4"
  }
 },
 "nbformat": 4,
 "nbformat_minor": 5
}
