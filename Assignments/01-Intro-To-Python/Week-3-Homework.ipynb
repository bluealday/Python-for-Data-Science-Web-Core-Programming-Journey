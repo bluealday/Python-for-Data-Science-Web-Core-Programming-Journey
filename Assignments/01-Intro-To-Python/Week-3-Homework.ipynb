{
 "cells": [
  {
   "cell_type": "markdown",
   "id": "7e078f75",
   "metadata": {},
   "source": [
    "# Week 3 - Homework\n",
    "\n",
    "Using the function definitions and function descriptions that are provided to you, implement the functions below by replacing the `pass` keyword with one or more lines of your own code.\n",
    "\n",
    "Note: **Do NOT change the function definition.** Nothing on the `def _______:` line should change in any way."
   ]
  },
  {
   "cell_type": "code",
   "execution_count": 3,
   "id": "56068ffe",
   "metadata": {},
   "outputs": [
    {
     "name": "stdout",
     "output_type": "stream",
     "text": [
      "True\n",
      "True\n",
      "True\n",
      "True\n",
      "True\n",
      "True\n"
     ]
    }
   ],
   "source": [
    "def sign(x):\n",
    "    \"\"\"Returns 1 for positive numbers, -1 for negative numbers, and 0 for 0.\"\"\"\n",
    "    if x > 0:          # positive     \n",
    "        return 1\n",
    "    elif x < 0:        # negative\n",
    "        return -1\n",
    "    elif x == 0:       # zero\n",
    "        return 0\n",
    "    \n",
    "# Examples you can use to check your code. All of these will be True if you implement the function correctly:\n",
    "print(sign(-17) == -1)\n",
    "print(sign(-0.001) == -1)\n",
    "print(sign(0) == 0)\n",
    "print(sign(0.0) == 0)\n",
    "print(sign(999) == 1)\n",
    "print(sign(0.01) == 1)"
   ]
  },
  {
   "cell_type": "code",
   "execution_count": 4,
   "id": "fb9e993c",
   "metadata": {},
   "outputs": [
    {
     "name": "stdout",
     "output_type": "stream",
     "text": [
      "True\n",
      "True\n",
      "True\n",
      "True\n",
      "True\n",
      "True\n"
     ]
    }
   ],
   "source": [
    "def first_name_first(name):\n",
    "    \"\"\"Returns a name with the first name first.\"\"\"\n",
    "    \n",
    "    \"\"\"\n",
    "    If name does not contain a 'comma,space' its in the expected format\n",
    "    Otherwise get last name and first name and display in expected format\n",
    "    \"\"\"\n",
    "    \n",
    "    displayed_name = name\n",
    "    \n",
    "    if displayed_name.find(',') == -1:        # name already in first/last name format\n",
    "        return name\n",
    "    \n",
    "    elif displayed_name.find(', ') > -1:      # name in last/first name format, need to put in first/last name format\n",
    "        temp_tuple = displayed_name.partition(', ')\n",
    "        last_name = (temp_tuple[0])\n",
    "        first_name = (temp_tuple[2])\n",
    "        return (first_name + \" \" + last_name)\n",
    "    \n",
    "# Examples you can use to check your code. All of these will be True if you implement the function correctly:\n",
    "print(first_name_first('Katherine Johnson') == 'Katherine Johnson')\n",
    "print(first_name_first('Johnson, Katherine') == 'Katherine Johnson')\n",
    "print(first_name_first('Jerry Lawson') == 'Jerry Lawson')\n",
    "print(first_name_first('Lawson, Jerry') == 'Jerry Lawson')\n",
    "print(first_name_first('Grace Hopper') == 'Grace Hopper')\n",
    "print(first_name_first('Hopper, Grace') == 'Grace Hopper')"
   ]
  },
  {
   "cell_type": "code",
   "execution_count": 5,
   "id": "329c566e",
   "metadata": {},
   "outputs": [
    {
     "name": "stdout",
     "output_type": "stream",
     "text": [
      "True\n",
      "True\n",
      "True\n",
      "True\n",
      "True\n",
      "True\n",
      "True\n",
      "True\n"
     ]
    }
   ],
   "source": [
    "def rotate_by_n(text, n):\n",
    "    \"\"\"Rotate the string text by n characters.\"\"\"\n",
    "    \n",
    "    \"\"\"\n",
    "    Splice input into prefix and suffix\n",
    "    Included some commented print statements to check correctness\n",
    "    \"\"\"\n",
    "    rotated_text = text             # Store text\n",
    "    \n",
    "    if n == 0: \n",
    "        return text\n",
    "    else:\n",
    "        prefix = rotated_text[n:]   # find the starting substring\n",
    "        suffix = rotated_text[:n]   # find the ending substring\n",
    "    \n",
    "        #print()\n",
    "        #print(\"Rotated Text = \" + rotated_text)\n",
    "        #print(\"Prefix = \" + prefix)\n",
    "        #print(\"Suffix = \" + suffix)\n",
    "        #print()\n",
    "    \n",
    "        return prefix+suffix    \n",
    "    \n",
    "# Examples you can use to check your code. All of these will be True if you implement the function correctly:\n",
    "print(rotate_by_n('abcdef', 0) == 'abcdef')\n",
    "print(rotate_by_n('abcdef', 1) == 'bcdefa')\n",
    "print(rotate_by_n('abcdef', 2) == 'cdefab')\n",
    "print(rotate_by_n('abcdef', 3) == 'defabc')\n",
    "print(rotate_by_n('abcdef', 4) == 'efabcd')\n",
    "print(rotate_by_n('abcdef', -1) == 'fabcde')\n",
    "print(rotate_by_n('abcdef', -2) == 'efabcd')\n",
    "print(rotate_by_n('abcdef', -3) == 'defabc')"
   ]
  },
  {
   "cell_type": "code",
   "execution_count": 6,
   "id": "2eed01d9",
   "metadata": {},
   "outputs": [
    {
     "name": "stdout",
     "output_type": "stream",
     "text": [
      "Enter a number: abcd\n",
      "That's not a number.\n",
      "Enter a number: 12.0\n",
      "That's not a number.\n",
      "Enter a number: 867-5309\n",
      "That's not a number.\n",
      "Enter a number: hello?\n",
      "That's not a number.\n",
      "Enter a number: -123\n",
      "-123\n",
      "Enter a number: abcd\n",
      "Try again.\n",
      "Enter a number: 12.0\n",
      "Try again.\n",
      "Enter a number: 867-5309\n",
      "Try again.\n",
      "Enter a number: hello?\n",
      "Try again.\n",
      "Enter a number: -123\n",
      "-123\n",
      "Integer? abcd\n",
      "Sorry, no. I'll ask again.\n",
      "Integer? 12.0\n",
      "Sorry, no. I'll ask again.\n",
      "Integer? 867-5309\n",
      "Sorry, no. I'll ask again.\n",
      "Integer? hello?\n",
      "Sorry, no. I'll ask again.\n",
      "Integer? -123\n",
      "-123\n"
     ]
    }
   ],
   "source": [
    "def get_int_from_user(prompt, fail_message):\n",
    "    \"\"\"\n",
    "    In a loop, ask the user for a response using the provided prompt.\n",
    "    - If possible, convert the user's response to an integer and return it.\n",
    "    - If not possible, present the fail_message to the user and ask again.\n",
    "    \"\"\"\n",
    "    \n",
    "    \"\"\"\n",
    "    Convert user input to int\n",
    "    Use a try except block when casting of int returns an error\n",
    "    Added commmented out print statment to check input type\n",
    "    \"\"\"\n",
    "    invalid_input = True\n",
    "    while invalid_input:\n",
    "        try: \n",
    "            response = input(prompt)\n",
    "            response = int(response)\n",
    "            if isinstance(response, int):\n",
    "                invalid_input = False\n",
    "                #print(response) \n",
    "                return (response)                \n",
    "        except:\n",
    "            print(fail_message)\n",
    "            #print(\"Response= \" + response + \" with type \" + str(type(response)))\n",
    "                        \n",
    "# Sample calls to this function look like:\n",
    "number = get_int_from_user(\"Enter a number: \", \"That's not a number.\")\n",
    "number = get_int_from_user(\"Enter a number: \", \"Try again.\")\n",
    "number = get_int_from_user(\"Integer? \", \"Sorry, no. I'll ask again.\")\n",
    "\n",
    "# A user might type:\n",
    "#     abcd\n",
    "#     12.0\n",
    "#     867-5309\n",
    "#     hello?\n",
    "#     -123\n",
    "# and after the last ENTER keypress the function will return the integer -123 ."
   ]
  },
  {
   "cell_type": "code",
   "execution_count": 7,
   "id": "fd8b1856",
   "metadata": {
    "scrolled": true
   },
   "outputs": [
    {
     "name": "stdout",
     "output_type": "stream",
     "text": [
      "True\n",
      "True\n",
      "True\n",
      "True\n",
      "True\n",
      "True\n",
      "True\n",
      "True\n",
      "True\n"
     ]
    }
   ],
   "source": [
    "def fibonacci(n):\n",
    "    \"\"\"Return the n-th Fibonacci number.\"\"\"\n",
    "    \n",
    "    # build a list of Fibonacci numbers starting with the first 2 elements\n",
    "    # append to the list in sequence, then read the value of the nth index to return the correct sum\n",
    "    fibonacci_list = [1, 1]\n",
    "    \n",
    "    \n",
    "    if n == 0 or n == 1:\n",
    "        return 1\n",
    "    \n",
    "    for x in range(0, n-1):\n",
    "            #print()\n",
    "            #print(\"************************************************\")\n",
    "            #print(\"X=\"+ str(x))\n",
    "            element_one = fibonacci_list[x]\n",
    "            element_two = fibonacci_list[x+1]\n",
    "            #print(\"Element One: \" + str(element_one))\n",
    "            #print(\"Element Two: \" + str(element_two))\n",
    "            fibonacci_list.append(element_one + element_two)\n",
    "            #print(fibonacci_list)\n",
    "            #print(\"n=\"+ str(n))\n",
    "            #print(fibonacci_list[x])\n",
    "            #print()\n",
    "            #print()\n",
    "    return fibonacci_list[n]\n",
    "\n",
    "\n",
    "# The Fibonacci sequence is an infinite sequence that starts:\n",
    "#     1, 1, 2, 3, 5, 8, 13, 21, 34, 55, 89, 144, ...\n",
    "# The first two elements are 1 and every element afterwards is the sum of the two preceding elements.\n",
    "\n",
    "# Hints:\n",
    "#   - There are lots of ways to implement this.\n",
    "#   - Do NOT implement this recursively.\n",
    "#       In other words, do NOT call fibonacci() in your implementation.\n",
    "#       That way only madness lies. Madness, I tell you.\n",
    "#   - Use the tools we covered this week.\n",
    "\n",
    "# Examples you can use to check your code. All of these will be True if you implement the function correctly:\n",
    "print(fibonacci(0) == 1)\n",
    "print(fibonacci(1) == 1)\n",
    "print(fibonacci(2) == 2)\n",
    "print(fibonacci(3) == 3)\n",
    "print(fibonacci(4) == 5)\n",
    "print(fibonacci(5) == 8)\n",
    "print(fibonacci(10) == 89)\n",
    "print(fibonacci(20) == 10946)\n",
    "print(fibonacci(30) == 1346269)\n"
   ]
  },
  {
   "cell_type": "markdown",
   "id": "f4c9630c",
   "metadata": {},
   "source": [
    "**REMINDER:** When you are done with this assignment, go to *File* > *Download as...* > *Python (.py)* and save your Python file. Then submit your .py file on Gradescope."
   ]
  },
  {
   "cell_type": "code",
   "execution_count": null,
   "id": "71acf705",
   "metadata": {},
   "outputs": [],
   "source": []
  }
 ],
 "metadata": {
  "kernelspec": {
   "display_name": "Python 3 (ipykernel)",
   "language": "python",
   "name": "python3"
  },
  "language_info": {
   "codemirror_mode": {
    "name": "ipython",
    "version": 3
   },
   "file_extension": ".py",
   "mimetype": "text/x-python",
   "name": "python",
   "nbconvert_exporter": "python",
   "pygments_lexer": "ipython3",
   "version": "3.11.4"
  }
 },
 "nbformat": 4,
 "nbformat_minor": 5
}
