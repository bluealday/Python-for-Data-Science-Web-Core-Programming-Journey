{
 "cells": [
  {
   "cell_type": "markdown",
   "id": "e45e2cf3",
   "metadata": {},
   "source": [
    "# Week 6 - Homework\n",
    "\n",
    "Implement each function by replacing the keyword `pass` with your code.\n",
    "\n",
    "Remember to indent your code properly so that it is inside the function definition, as any code outside the function (such as the examples provided) will be ignored by Gradescope. Rule of thumb: if any of the code you wrote is touching the left margin (like the `#` comments) then your code is _outside_ of the function and you need to indent it.\n",
    "\n",
    "Lastly, make sure that your functions are making use of the parameters in the function definition. Your functions should not refer to anything in the examples, and there should be no hard-coded values in your code.\n",
    "\n",
    "When you want to submit your code, don't forget to use the *File* > *Download as* > *Python (.py)* option and __name your file `week6.py`__. Gradescope won't be able to find your file unless you name it `week6.py`."
   ]
  },
  {
   "cell_type": "code",
   "execution_count": 1,
   "id": "afa6b6c3",
   "metadata": {},
   "outputs": [
    {
     "name": "stdout",
     "output_type": "stream",
     "text": [
      "True : 123.46\n",
      "True : -0.01\n"
     ]
    }
   ],
   "source": [
    "# For examples, refer to math module video.\n",
    "#\n",
    "# You do not need to import any modules for this problem.\n",
    "\n",
    "\n",
    "def round_to_hundredths(value: float) -> float:\n",
    "    \"\"\"Return the given value rounded to 2 decimal places (i.e. hundredths) using the builtin function round().\"\"\"\n",
    "    return (round(value, 2))\n",
    "\n",
    "\n",
    "# Examples:\n",
    "\n",
    "example1 = round_to_hundredths(123.456789)\n",
    "expected1 = 123.46\n",
    "print(example1 == expected1, ':', repr(example1))\n",
    "\n",
    "example2 = round_to_hundredths(-0.0128)\n",
    "expected2 = -0.01\n",
    "print(example2 == expected2, ':', repr(example2))"
   ]
  },
  {
   "cell_type": "code",
   "execution_count": 4,
   "id": "ae6b07d5",
   "metadata": {},
   "outputs": [
    {
     "name": "stdout",
     "output_type": "stream",
     "text": [
      "True : [0.5403, 1.0, 0.5403]\n",
      "True : [1.0, 0.70711, 0.0, -0.70711, -1.0]\n"
     ]
    }
   ],
   "source": [
    "# For examples, refer to the math module video.\n",
    "#\n",
    "# Hint: Use the Python documentation to look up the right function(s).\n",
    "\n",
    "from math import cos \n",
    "\n",
    "\n",
    "def cosines(angles_in_radians: list[float]) -> list[float]:\n",
    "    \"\"\"Given a list of angles (in radians), returns a list with the cosine of each angle rounded to 5 decimal places.\"\"\"\n",
    "    angles = []\n",
    "    for angle in angles_in_radians:\n",
    "        angles.append(round(cos(angle), 5))\n",
    "    return (angles)\n",
    "\n",
    "\n",
    "\n",
    "# Examples:\n",
    "\n",
    "argument1 = [-1.0, 0.0, 1.0]\n",
    "example1 = cosines(argument1)\n",
    "expected1 = [0.5403, 1.0, 0.5403]\n",
    "print(example1 == expected1, ':', repr(example1))\n",
    "\n",
    "argument2 = [0.0, math.pi * 0.25, math.pi * 0.5, math.pi * 0.75, math.pi]\n",
    "example2 = cosines(argument2)\n",
    "expected2 = [1.0, 0.70711, 0.0, -0.70711, -1.0]\n",
    "print(example2 == expected2, ':', repr(example2))"
   ]
  },
  {
   "cell_type": "code",
   "execution_count": 5,
   "id": "6657596b",
   "metadata": {},
   "outputs": [
    {
     "name": "stdout",
     "output_type": "stream",
     "text": [
      "True : 3.4641\n",
      "True : 22.75961\n"
     ]
    }
   ],
   "source": [
    "# For examples, refer to the math module video.\n",
    "#\n",
    "# Hint: Use the Python documentation to look up the right function(s).\n",
    "\n",
    "import math\n",
    "\n",
    "\n",
    "def distance(point1: tuple, point2: tuple) -> float:\n",
    "    \"\"\"Given two points in 3D space, return the distance between them rounded to 5 decimal places.\"\"\"\n",
    "    return (round((math.dist(point1, point2)), 5))\n",
    "        \n",
    "\n",
    "\n",
    "# Examples:\n",
    "p1 = (1, 1, 1)\n",
    "p2 = (-1, -1, -1)\n",
    "example1 = distance(p1, p2)\n",
    "expected1 = 3.4641\n",
    "print(example1 == expected1, ':', repr(example1))\n",
    "\n",
    "p1 = (9, -9, 5)\n",
    "p2 = (-6, 8, 7)\n",
    "example2 = distance(p1, p2)\n",
    "expected2 = 22.75961\n",
    "print(example2 == expected2, ':', repr(example2))"
   ]
  },
  {
   "cell_type": "code",
   "execution_count": 6,
   "id": "318ff64b",
   "metadata": {},
   "outputs": [
    {
     "name": "stdout",
     "output_type": "stream",
     "text": [
      "3 7 9 10 1\n"
     ]
    }
   ],
   "source": [
    "# For examples, refer to the random module video.\n",
    "#\n",
    "# Hint: Use the Python documentation to look up the right function(s).\n",
    "\n",
    "import random\n",
    "\n",
    "\n",
    "def get_value() -> int:\n",
    "    \"\"\"Return a random integer from 1 to 10.\"\"\"\n",
    "    return (random.randint(1, 10))\n",
    "\n",
    "\n",
    "# Examples:\n",
    "print(get_value(), get_value(), get_value(), get_value(), get_value())\n",
    "# Possible values displayed:\n",
    "# 2 7 6 4 4\n",
    "# 6 10 6 3 10\n",
    "# 2 1 10 6 9\n",
    "# 5 2 1 5 6"
   ]
  },
  {
   "cell_type": "code",
   "execution_count": 5,
   "id": "093c6a15",
   "metadata": {},
   "outputs": [
    {
     "name": "stdout",
     "output_type": "stream",
     "text": [
      "<class 'function'>\n",
      "9\n",
      "16\n",
      "2.25\n"
     ]
    }
   ],
   "source": [
    "# For examples, refer to the functional programming video.\n",
    "\n",
    "def square():\n",
    "    \"\"\"Return a lambda that squares a single value.\"\"\"\n",
    "    return (lambda value: value * value)\n",
    "\n",
    "# Examples:\n",
    "result_of_calling_square = square()\n",
    "print(type(result_of_calling_square))  # should display <class 'function'> because a lambda is a tiny function\n",
    "if result_of_calling_square is not None:\n",
    "    print(result_of_calling_square(3))  # displays: 9\n",
    "    print(result_of_calling_square(-4))  # displays: 16\n",
    "    print(result_of_calling_square(1.5))  # displays: 2.25\n",
    "else:\n",
    "    print(\"square() is returning None\")"
   ]
  },
  {
   "cell_type": "code",
   "execution_count": 6,
   "id": "acabc3e7",
   "metadata": {},
   "outputs": [
    {
     "name": "stdout",
     "output_type": "stream",
     "text": [
      "True : ['1', '2', '3']\n",
      "True : ['-5.9', 'False', '<built-in function max>']\n"
     ]
    }
   ],
   "source": [
    "# For examples, refer to the functional programming video.\n",
    "#\n",
    "# Hint: Use the Python documentation for builtin functions.\n",
    "\n",
    "def to_strings_fp(values: tuple) -> list[str]:\n",
    "    \"\"\"Given a tuple of values, use the functional programming approach\n",
    "        to return a list of the same values converted to strings.\"\"\"\n",
    "    # Note: You must use functional programming for this task.\n",
    "    #       Do not use a loop or a comprehension.\n",
    "    \n",
    "    # use map to change tuples to str and return that as a list\n",
    "    \n",
    "    return (list(map(str, values)))\n",
    "\n",
    "\n",
    "# Examples:\n",
    "\n",
    "argument1 = (1, 2, 3)\n",
    "example1 = to_strings_fp(argument1)\n",
    "expected1 = ['1', '2', '3']\n",
    "print(example1 == expected1, ':', repr(example1))\n",
    "\n",
    "argument2 = (-5.9, False, max)\n",
    "example2 = to_strings_fp(argument2)\n",
    "expected2 = ['-5.9', 'False', '<built-in function max>']\n",
    "print(example2 == expected2, ':', repr(example2))"
   ]
  },
  {
   "cell_type": "code",
   "execution_count": 7,
   "id": "ae7a7223",
   "metadata": {},
   "outputs": [
    {
     "name": "stdout",
     "output_type": "stream",
     "text": [
      "True : ['1', '2', '3']\n",
      "True : ['-5.9', 'False', '<built-in function max>']\n"
     ]
    }
   ],
   "source": [
    "# For examples, refer to the comprehensions video.\n",
    "\n",
    "def to_strings_lc(values: tuple) -> list[str]:\n",
    "    \"\"\"Given a tuple of values, use a list comprehension to\n",
    "        return a list of the same values converted to strings.\"\"\"\n",
    "    # Note: You must use a list comprehension for this task.\n",
    "    #       Do not use a loop or functional programming.\n",
    "    #result = [[i, j] for i in range(3) for j in 'abc']\n",
    "    #print(result)\n",
    "    return ([str(i) for i in values])\n",
    "\n",
    "\n",
    "# Examples:\n",
    "\n",
    "argument1 = (1, 2, 3)\n",
    "example1 = to_strings_lc(argument1)\n",
    "expected1 = ['1', '2', '3']\n",
    "print(example1 == expected1, ':', repr(example1))\n",
    "\n",
    "argument2 = (-5.9, False, max)\n",
    "example2 = to_strings_lc(argument2)\n",
    "expected2 = ['-5.9', 'False', '<built-in function max>']\n",
    "print(example2 == expected2, ':', repr(example2))"
   ]
  },
  {
   "cell_type": "markdown",
   "id": "01102f42",
   "metadata": {},
   "source": [
    "# Extra Credit\n",
    "\n",
    "The last two problems `decide_samplers()` and `count_objects()` are extra credit."
   ]
  },
  {
   "cell_type": "code",
   "execution_count": 8,
   "id": "aa04a3ae",
   "metadata": {},
   "outputs": [
    {
     "name": "stdout",
     "output_type": "stream",
     "text": [
      "{'Anita': ['oatmeal', 'choc chip'], 'Jeffrey': ['ginger', 'oatmeal']}\n",
      "{'Anita': ['ginger', 'red velvet', 'choc chip'], 'Jeffrey': ['choc chip', 'red velvet', 'oatmeal']}\n"
     ]
    }
   ],
   "source": [
    "# For examples, refer to the random module video.\n",
    "#\n",
    "# Hint: Use the Python documentation to look up the right function(s).\n",
    "\n",
    "import random\n",
    "\n",
    "\n",
    "def decide_samplers(people: list[str], flavors: list[str], quantity: int) -> dict[str, list[str]]:\n",
    "    \"\"\"Returns dictionary matching each name in `people` with `quantity` unique flavors.\"\"\"\n",
    "    # Context: Imagine you are overwhelmed for the holidays and can't decide\n",
    "    #          what to give your friends. You decide to give each of them a\n",
    "    #          small box of homemade cookies. But since you love to bake, you\n",
    "    #          made more flavors of cookies than would fit in each box. You want\n",
    "    #          to make sure that each friend gets a random selection of flavors.\n",
    "    \n",
    "    # use sample because of unique flavors requirement\n",
    "    return ({person: random.sample(flavors, k=quantity) for person in people})\n",
    "    \n",
    "\n",
    "# Examples:\n",
    "\n",
    "names = ['Anita', 'Jeffrey']\n",
    "varieties = ['choc chip', 'sugar', 'oatmeal', 'ginger', 'red velvet']\n",
    "\n",
    "example1 = decide_samplers(names, varieties, 2)  # <-- 2 for each friend\n",
    "print(example1)\n",
    "# potential values for example1:\n",
    "# {'Anita': ['oatmeal', 'sugar'], 'Jeffrey': ['ginger', 'red velvet']}\n",
    "# {'Anita': ['choc chip', 'ginger'], 'Jeffrey': ['ginger', 'red velvet']}\n",
    "# {'Anita': ['choc chip', 'sugar'], 'Jeffrey': ['oatmeal', 'sugar']}\n",
    "\n",
    "example2 = decide_samplers(names, varieties, 3)  # <-- 3 for each friend\n",
    "print(example2)\n",
    "# potential values for example2:\n",
    "# {'Anita': ['choc chip', 'oatmeal', 'sugar'], 'Jeffrey': ['sugar', 'oatmeal', 'red velvet']}\n",
    "# {'Anita': ['ginger', 'oatmeal', 'choc chip'], 'Jeffrey': ['oatmeal', 'choc chip', 'sugar']}\n",
    "# {'Anita': ['ginger', 'choc chip', 'sugar'], 'Jeffrey': ['red velvet', 'ginger', 'choc chip']}\n"
   ]
  },
  {
   "cell_type": "code",
   "execution_count": 9,
   "id": "ddc5758a",
   "metadata": {},
   "outputs": [
    {
     "name": "stdout",
     "output_type": "stream",
     "text": [
      "True : {'a': 0, 'b': 2, 'c': 1}\n",
      "True : {'ward': 0, 'wood': 2, 'word': 0, 'would': 1}\n",
      "True : {None: 1, True: 3, False: 4}\n"
     ]
    }
   ],
   "source": [
    "# For examples, refer to the comprehensions video.\n",
    "#\n",
    "# Hint: Is there a list method in the Python documentation that might help?\n",
    "\n",
    "def count_objects(unique_items: list[object], many_items: list[object]) -> dict[object, int]:\n",
    "    \"\"\"Return a dictionary telling how many times each item in `unique_items` shows up in `many_items`.\"\"\"\n",
    "    # Note: You must use a dictionary comprehension for this task.\n",
    "    #       Do not use a loop. You may use functional programming but it is not necessary.\n",
    "    # use list method list.count()\n",
    "    return ({unique_item:many_items.count(unique_item) for unique_item in unique_items})\n",
    "\n",
    "\n",
    "\n",
    "# True/False, does each result match the expected output?\n",
    "\n",
    "actual = count_objects(['a', 'b', 'c'], ['d', 'b', 'aaa', 'b', 'c', 'cat'])\n",
    "expected = {'a': 0, 'b': 2, 'c': 1}\n",
    "print(actual == expected, ':', repr(actual))\n",
    "\n",
    "actual = count_objects(\n",
    "    ['ward', 'wood', 'word', 'would'],\n",
    "    ['how', 'much', 'wood', 'would', 'a', 'woodchuck', 'chuck', 'if', 'a', 'woodchuck', 'could', 'chuck', 'wood'])\n",
    "expected = {'ward': 0, 'wood': 2, 'word': 0, 'would': 1}\n",
    "print(actual == expected, ':', repr(actual))\n",
    "\n",
    "actual = count_objects(\n",
    "    [None, True, False],\n",
    "    [0, 1, 0, True, True, -1.0, False, None, 0])\n",
    "expected = {None: 1, True: 3, False: 4}\n",
    "print(actual == expected, ':', repr(actual))"
   ]
  },
  {
   "cell_type": "markdown",
   "id": "cad1afb2",
   "metadata": {},
   "source": [
    "### Remember: Use the *File* > *Download as* > *Python (.py)* option and name your file `week6.py`."
   ]
  },
  {
   "cell_type": "code",
   "execution_count": null,
   "id": "15cde13e",
   "metadata": {},
   "outputs": [],
   "source": []
  }
 ],
 "metadata": {
  "kernelspec": {
   "display_name": "Python 3 (ipykernel)",
   "language": "python",
   "name": "python3"
  },
  "language_info": {
   "codemirror_mode": {
    "name": "ipython",
    "version": 3
   },
   "file_extension": ".py",
   "mimetype": "text/x-python",
   "name": "python",
   "nbconvert_exporter": "python",
   "pygments_lexer": "ipython3",
   "version": "3.11.4"
  }
 },
 "nbformat": 4,
 "nbformat_minor": 5
}
