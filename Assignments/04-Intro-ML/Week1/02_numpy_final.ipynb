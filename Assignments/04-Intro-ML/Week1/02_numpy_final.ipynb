{
 "cells": [
  {
   "cell_type": "markdown",
   "metadata": {},
   "source": [
    "<html>\n",
    "<body>\n",
    "<h1 style=\"background-color: #022851;\"><center>\n",
    "    <br><font size=\"+3.5\">\n",
    "    <font color=#FFBF00><b>Introduction to Machine Learning</b></font>\n",
    "   </font>\n",
    "    <br><font size=\"+1\">\n",
    "    <font color=#FFBF00><b>WEEK 1 | PROBLEM SET 1 (Numpy) </b></font>\n",
    "   </font>\n",
    "    <br><font size=\"+1\">\n",
    "    <font color=#FFBF00><b>Name:</b> Blue Ferdinand Alday </font> <br>\n",
    "    <font color=#FFBF00><b>Due Date:</b> 9/15/2024 </font>\n",
    "   </font> \n",
    "    </center>\n",
    "</h1>\n",
    "</body>\n",
    "</html>\n"
   ]
  },
  {
   "cell_type": "code",
   "execution_count": 1,
   "metadata": {
    "id": "lPsplrBimhk1"
   },
   "outputs": [],
   "source": [
    "import numpy as np\n",
    "\n",
    "from numpy import random\n",
    "\n",
    "# needed for Question number 5"
   ]
  },
  {
   "cell_type": "markdown",
   "metadata": {
    "id": "ECzXEibBoQ5K"
   },
   "source": [
    "## Instructions\n",
    "1. Do not import any other library. \n",
    "2. This assignment primarily focuses on getting a hands on practise for numpy library.\n",
    "3. Examples are given for most of the questions. You are free to take different values inside the arrays as long as the requirements are questions are met.\n",
    "4. We have referenced the 1D array as sample_1 and 2D array as sample_2 in the notebook. You are free to change the variable's name.\n",
    "5. Go through these resources in order ro learn and practise numpy operations : <a href=\"https://www.w3schools.com/python/numpy/numpy_intro.asp\">Resource 1 </a> , <a href=\"https://realpython.com/numpy-tutorial/\">Resource 2 </a>\n",
    "6. You can also read the documentation of all numpy functions from this <a href=\"https://numpy.org/doc/stable/user/absolute_beginners.html\">Link </a>"
   ]
  },
  {
   "cell_type": "markdown",
   "metadata": {
    "id": "usgazAxUrUac"
   },
   "source": [
    "#### <b> <font color='red'> Que 1.1 - Defining a numpy matrix </b>   -> Define a 1D numpy array having 6 elements. Print the dimensions, rows and columns of the array </font>\n",
    "\n",
    "<br> <b>  Example </b> </br>\n",
    "sample_1 = [ 5, 6, 2, 7, 8, 8]\n",
    "  - Array dimension = 1\n",
    "  - Number of rows = 1\n",
    "  - Number of columns = 6\n",
    "\n"
   ]
  },
  {
   "cell_type": "code",
   "execution_count": 2,
   "metadata": {
    "id": "gzb9i23UrXgW"
   },
   "outputs": [],
   "source": [
    "# define the 1d array\n",
    "# WRITE CODE BELOW\n",
    "sample_1 = np.array([5, 6, 2, 7, 8, 8])"
   ]
  },
  {
   "cell_type": "code",
   "execution_count": 3,
   "metadata": {
    "id": "vBCzMRqHsl3W"
   },
   "outputs": [
    {
     "name": "stdout",
     "output_type": "stream",
     "text": [
      "sample_1 = [5 6 2 7 8 8]\n",
      "Array dimension = 1\n",
      "Number of rows = 1\n",
      "Number of columns = 6\n"
     ]
    }
   ],
   "source": [
    "# printing the 1D array that you have defined above\n",
    "print(f\"sample_1 = {sample_1}\")\n",
    "\n",
    "# print the dimension, rows and columns of the array\n",
    "# WRITE CODE BELOW\n",
    "\n",
    "print(f\"Array dimension = {sample_1.ndim}\")\n",
    "\n",
    "# since 1 dimensional arrays do not return the row count, assign row count appropriately\n",
    "if sample_1.ndim > 1:\n",
    "    rows = sample_1.shape[1]\n",
    "else:\n",
    "    rows = 1\n",
    "\n",
    "print(f\"Number of rows = {rows}\")\n",
    "\n",
    "print(f\"Number of columns = {sample_1.shape[0]}\")"
   ]
  },
  {
   "cell_type": "markdown",
   "metadata": {
    "id": "ANAfQvfXmuar"
   },
   "source": [
    "#### <b> <font color='red'> Que 1.2 - Defining a numpy matrix </b>   -> Define a 2D numpy array having 4 rows and 3 columns. Print the dimensions, rows and columns of the array </font>\n",
    "\n",
    "<br> <b>  Example </b> </br>\n",
    "$$\\begin{bmatrix} 6 & 2 & 1  \\\\ 3 & 0 & 1 \\\\ 0 & 2 & 4  \\\\ 5 & 6 & 8 \\end{bmatrix}$$\n",
    "\n",
    "  - Array dimension = 2\n",
    "  - Number of rows = 4\n",
    "  - Number of columns = 3\n",
    "\n",
    "\n",
    "\n"
   ]
  },
  {
   "cell_type": "code",
   "execution_count": 4,
   "metadata": {
    "id": "OSO2zdyXmlMd"
   },
   "outputs": [],
   "source": [
    "# define the 2d array\n",
    "# WRITE CODE BELOW\n",
    "sample_2 = np.array([[6, 2, 1], [3, 0, 1], [0, 2, 4], [5, 6, 8]])"
   ]
  },
  {
   "cell_type": "code",
   "execution_count": 5,
   "metadata": {
    "id": "_DJhYeMeP8Nk"
   },
   "outputs": [
    {
     "name": "stdout",
     "output_type": "stream",
     "text": [
      "sample_2 = \n",
      "[[6 2 1]\n",
      " [3 0 1]\n",
      " [0 2 4]\n",
      " [5 6 8]]\n",
      "\n",
      "Array dimension = 2\n",
      "Number of rows = 4\n",
      "Number of columns = 3\n"
     ]
    }
   ],
   "source": [
    "# printing the 2D array that you have defined above\n",
    "print(f\"sample_2 = \\n{sample_2}\\n\")\n",
    "\n",
    "# print the dimension, rows and columns of the array\n",
    "# WRITE CODE BELOW\n",
    "\n",
    "print(f\"Array dimension = {sample_2.ndim}\")\n",
    "\n",
    "# Check dimensional array value since row size is not defined in 1D arrays\n",
    "if sample_2.ndim > 1:\n",
    "    rows = sample_2.shape[0]\n",
    "else:\n",
    "    rows = 1\n",
    "\n",
    "print(f\"Number of rows = {rows}\")\n",
    "\n",
    "print(f\"Number of columns = {sample_2.shape[1]}\")"
   ]
  },
  {
   "cell_type": "markdown",
   "metadata": {
    "id": "XKLaz45ovqun"
   },
   "source": [
    "#### <b> <font color='red'> Que 2.1 - Accessing elements </b>   -> Print the first element of 1D array and 2D array that you have defined in the previous question </font>\n",
    "\n",
    "<br> <b>  Example - Accessing first element of sample_1 and sample_2 defined in prev que</b> </br>\n",
    "- first_sample1 = 2\n",
    "- first_sample2 = 6\n",
    "\n",
    "Note - You can get different output if you have defined different elements in your arrays.\n",
    "\n"
   ]
  },
  {
   "cell_type": "code",
   "execution_count": 6,
   "metadata": {
    "id": "6ZEYkqoGwUv_",
    "scrolled": true
   },
   "outputs": [
    {
     "name": "stdout",
     "output_type": "stream",
     "text": [
      "first_sample1 = 5\n",
      "first_sample2 = 6\n"
     ]
    }
   ],
   "source": [
    "# access first element from both 1D array and 2D array\n",
    "# WRITE CODE BELOW\n",
    "# first element of 1D array\n",
    "first_sample1 = sample_1[0]\n",
    "print(f\"first_sample1 = {first_sample1}\")\n",
    "\n",
    "# first element of 2D array\n",
    "\n",
    "# Assume the first element of 2D array is the first element in the first row\n",
    "first_sample2 = sample_2[0, 0]\n",
    "print(f\"first_sample2 = {first_sample2}\")"
   ]
  },
  {
   "cell_type": "markdown",
   "metadata": {
    "id": "Tx1lKbO6xMDT"
   },
   "source": [
    "#### <b> <font color='red'> Que 2.2 - Array Slicing </b>  </font>  \n",
    "<font color='red'> \n",
    "1. Print first three elements of sample_1 (1D array)\n",
    "2. Print all elements from second column from sample_2  (2D array) \n",
    "3. Print all elements which which belongs to (3rd and 4th row) and (2nd and 3rd column) from sample_2 (2d Array)\n",
    "\n",
    "<br> <b>  Example - Output for sample_1 and sample_2 array that were defined in the first que</b> </br>\n",
    "<br> first_three_sample1 = [5, 6 ,2] </br>\n",
    "<br> second_col_sample2 = [ 2, 0 , 2 , 6] </br>\n",
    "<br> result_sample2 = \n",
    "$$\\begin{bmatrix} 2 & 4  \\\\ 6 & 8  \\end{bmatrix}$$\n",
    "\n"
   ]
  },
  {
   "cell_type": "code",
   "execution_count": 7,
   "metadata": {
    "id": "srGlS_Gj1sc2"
   },
   "outputs": [
    {
     "name": "stdout",
     "output_type": "stream",
     "text": [
      "first_three_sample1 = [5 6 2]\n",
      "second_col_sample2 = [2 0 2 6]\n",
      "\n",
      "result_sample2 = \n",
      "[[2 4]\n",
      " [6 8]]\n"
     ]
    }
   ],
   "source": [
    "# define three variables\n",
    "# first three variables of sample_1 (1D array)\n",
    "\n",
    "# slice first 3 elements in array\n",
    "first_three_sample1 = sample_1[:3]\n",
    "print(f\"first_three_sample1 = {first_three_sample1}\")\n",
    "\n",
    "# print all elements from second column from sample_2 (2D array)\n",
    "second_col_sample2 = sample_2[0:, 1]\n",
    "print(f\"second_col_sample2 = {second_col_sample2}\")\n",
    "\n",
    "# print all elements from 3rd and 4th row and 2nd and 3rd column from sample_2 (2D array)\n",
    "result_sample2 = sample_2[2:4, 1:3]\n",
    "print(f\"\\nresult_sample2 = \\n{result_sample2}\")"
   ]
  },
  {
   "cell_type": "markdown",
   "metadata": {
    "id": "Erxa07sonxzx"
   },
   "source": [
    "#### <b> <font color='red'> Que 3 - Sorting the array - Sort the 1D array (sample_1)  and print it</b>  </font>  \n",
    "\n",
    "<br> <b>  Example - Output for sample_1  array that was defined in the first que</b> </br>\n",
    "sorted_sample_1 = [ 2, 5, 6, 7, 8, 8 ]"
   ]
  },
  {
   "cell_type": "code",
   "execution_count": 8,
   "metadata": {
    "id": "ecIDawHW3zlt"
   },
   "outputs": [
    {
     "name": "stdout",
     "output_type": "stream",
     "text": [
      "sorted_sample_1 = [2 5 6 7 8 8]\n"
     ]
    }
   ],
   "source": [
    "# sort the 1D array (sample_1)\n",
    "# WRITE code below\n",
    "# use the sort function\n",
    "sorted_sample_1 = np.sort(sample_1)\n",
    "print(f\"sorted_sample_1 = {sorted_sample_1}\")"
   ]
  },
  {
   "cell_type": "markdown",
   "metadata": {
    "id": "QmdGhjwTrNXK"
   },
   "source": [
    "#### <b> <font color='red'> Que 4 - Finding the mean and maximum value of rows and columns </font>  </b>\n",
    "\n",
    "<font color='red'> \n",
    "1. Find the mean of sample_1 (1D array). </font>\n",
    "<font color='red'> \n",
    "2. Find the maximum value from each column of sample_2 (2D array). </font>\n",
    "\n",
    "\n",
    "<br> <b>  Example - Output for sample_1 and sample_2 array that were defined in the first que </b> </br>\n",
    "<br>mean_sample_1 =      6.0 </br>\n",
    "<br>max_column_sample2 = [6, 6 , 8] </br>"
   ]
  },
  {
   "cell_type": "code",
   "execution_count": 9,
   "metadata": {
    "id": "fpbMmQvUpxQt"
   },
   "outputs": [
    {
     "name": "stdout",
     "output_type": "stream",
     "text": [
      "mean_sample1 = 6.0\n",
      "max_column_sample2 = [6 6 8]\n"
     ]
    }
   ],
   "source": [
    "# mean of  one_d array\n",
    "# Write code below\n",
    "# use the mean function\n",
    "mean_sample1 = np.mean(sample_1)\n",
    "print(f\"mean_sample1 = {mean_sample1}\")\n",
    "\n",
    "\n",
    "# max value from each column\n",
    "# write code below\n",
    "# use the max function against axis=0 for columns\n",
    "max_column_sample2 = np.max(sample_2, axis=0)\n",
    "print(f\"max_column_sample2 = {max_column_sample2}\")"
   ]
  },
  {
   "cell_type": "markdown",
   "metadata": {
    "id": "NIj2MlkvzedV"
   },
   "source": [
    "#### <b> <font color='red'>Que 5 - Defining a random numpy array with given shape </font></b>\n",
    "<font color='red'> Take two inputs from the user <b>num_rows</b> and <b> num_cols</b>, you have to define a random numpy matrix with dimensions (num_rows x num_cols) \n",
    "Hint - You can use numpy.random function </font>"
   ]
  },
  {
   "cell_type": "code",
   "execution_count": 10,
   "metadata": {
    "id": "5CR_ddl_upmC"
   },
   "outputs": [
    {
     "name": "stdout",
     "output_type": "stream",
     "text": [
      "Enter the number of rows\n",
      "10\n",
      "Enter the number of columns\n",
      "20\n"
     ]
    }
   ],
   "source": [
    "print(\"Enter the number of rows\")\n",
    "num_rows = int(input())\n",
    "print(\"Enter the number of columns\")\n",
    "num_cols = int(input())"
   ]
  },
  {
   "cell_type": "code",
   "execution_count": 11,
   "metadata": {
    "id": "YMO4UfHVdiI-"
   },
   "outputs": [
    {
     "name": "stdout",
     "output_type": "stream",
     "text": [
      "random_array = \n",
      "[[95 62 45 33 38  8 73  1 27 52 16 54 65 16 51 13 61  6 92 17]\n",
      " [69  6 59 58 70 77 81  0 94 34 81 97 23 80 38 70 26 76  7 99]\n",
      " [ 1 63 86 49 55 13 35 39 88 37 16 44 93 45 70 26 10 53 83 26]\n",
      " [47 51 21 35 87 99 12 71 55 99 72 71 37 91 56 21 37 67 39 85]\n",
      " [89  9 25 45 47 48 50 36  7 13 35 32 32 83 24 69 27 34 24 16]\n",
      " [61 92 50 17 92 83 82 29 45 46 38 86 14 73 10 73  8 57 27 13]\n",
      " [41 40 81 87 50 27 48  4 53 52 13 33 37 38 98 83 16  2  7  0]\n",
      " [ 3 96 61 35 38 26  1 34 52 39 30 52 30 72 83 11 38 19 75 17]\n",
      " [42 51  9 81 59 46 78 48 61 39 41  7 34 32 28 38 48 77 63 51]\n",
      " [81 15 78 63 78 86 85 65 15 40 77 24 59  8 26 63  3 68 19  4]]\n"
     ]
    }
   ],
   "source": [
    "# define a random matrix of size (num_rows x num_cols)\n",
    "# WRITE Code below\n",
    "\n",
    "# generate numbers between 0 and 100 using the rows and columns from the user\n",
    "random_array = random.randint(100, size=(num_rows, num_cols))\n",
    "print(f\"random_array = \\n{random_array}\")"
   ]
  },
  {
   "cell_type": "markdown",
   "metadata": {
    "id": "aL8BV5T61D1W"
   },
   "source": [
    "#### <b> <font color='red'>Que 6.1 - Elementwise Multiplication and Matrix multiplication  </font></b>\n",
    "<font color='red'> There are two ways of multiplication of numpy arrays. The first one is element wise multiplication, where you have to multiply both arrays elementwise.  </font>\n",
    "<font color='red'> Define two 1D matrices having 4 elements each, and multiply them elementwise. </font>\n",
    "\n",
    "<br> <b>  Example </b> </br>\n",
    "\n",
    "<br> array_1 = [2 , 3, 4 , 5] </br>\n",
    "<br> array_2 = [3,  4,  5,  6] </br>\n",
    "<br> result_array = [6, 12 , 20, 30 ] </br>\n",
    "\n",
    "\n"
   ]
  },
  {
   "cell_type": "code",
   "execution_count": 12,
   "metadata": {
    "id": "Lx6YyfJF-G47"
   },
   "outputs": [
    {
     "name": "stdout",
     "output_type": "stream",
     "text": [
      "array_1 = [2 3 4 5]\n",
      "array_2 = [3 4 5 6]\n",
      "result_array = [ 6 12 20 30]\n"
     ]
    }
   ],
   "source": [
    "array_1 = np.array([2, 3, 4, 5])\n",
    "array_2 = np.array([3, 4, 5, 6])\n",
    "\n",
    "# multiply these two arrays\n",
    "# store the result in result_array\n",
    "\n",
    "# use the multiply function\n",
    "result_array = np.multiply(array_1, array_2)\n",
    "\n",
    "print(f\"array_1 = {array_1}\")\n",
    "print(f\"array_2 = {array_2}\")\n",
    "print(f\"result_array = {result_array}\")"
   ]
  },
  {
   "cell_type": "markdown",
   "metadata": {
    "id": "9YfDaaGZ-y0c"
   },
   "source": [
    "#### <b> <font color='red'>Que 6.2 - Elementwise Multiplication and Matrix multiplication  </font></b>\n",
    "<font color='red'> The second one is matrix multiplication, where you have to multiply both arrays according to standard matrix multiplication.  </font>\n",
    "<font color='red'> Define two 2D matrices first_one of size 2X5 and second_one of size 5X2. Perform matrix mutiplication and print shape of resultant array. </font>\n",
    "\n",
    "<br> <b>  Example </b> </br>\n",
    "<br> If you perform matrix multiplication of array_1 and array_2  </br>\n",
    "array_1  = $$\\begin{bmatrix} 1 & 3 &4 &5 &6  \\\\ 2 &5 &7 &8&9  \\end{bmatrix}$$\n",
    "array_2  = $$\\begin{bmatrix} 2 & 4  \\\\ 2 & 6 \\\\0 &3 \\\\8 & 0 \\\\ 1&4   \\end{bmatrix}$$\n",
    "\n",
    " will get the resultant array as \n",
    "$$\\begin{bmatrix} 54 & 58  \\\\ 87 & 95  \\end{bmatrix}$$"
   ]
  },
  {
   "cell_type": "code",
   "execution_count": 13,
   "metadata": {
    "id": "jCXzh_yd_hTT"
   },
   "outputs": [
    {
     "name": "stdout",
     "output_type": "stream",
     "text": [
      "array_1 = \n",
      "[[1 3 4 5 6]\n",
      " [2 5 7 8 9]]\n",
      "\n",
      "array_2 = \n",
      "[[2 4]\n",
      " [2 6]\n",
      " [0 3]\n",
      " [8 0]\n",
      " [1 4]]\n",
      "\n",
      "result_array = \n",
      "[[54 58]\n",
      " [87 95]]\n",
      "\n",
      "result_array's shape = (2, 2)\n"
     ]
    }
   ],
   "source": [
    "array_1 = np.array([[1, 3, 4, 5, 6], [2, 5, 7, 8, 9]])\n",
    "array_2 = np.array([[2, 4], [2, 6], [0, 3], [8, 0], [1, 4]])\n",
    "\n",
    "# multiply these two arrays using matrix multiplication\n",
    "# store the result in result_array\n",
    "# use the built in matmul function to perform matrix multiplication\n",
    "\n",
    "result_array = np.matmul(array_1, array_2)\n",
    "\n",
    "print(f\"array_1 = \\n{array_1}\\n\")\n",
    "print(f\"array_2 = \\n{array_2}\\n\")\n",
    "print(f\"result_array = \\n{result_array}\\n\")\n",
    "print(f\"result_array's shape = {result_array.shape}\")"
   ]
  },
  {
   "cell_type": "markdown",
   "metadata": {
    "id": "a4VOw0DdfzYD"
   },
   "source": [
    "#### <b> <font color='red'>Que 7 - Creating a copy of array</font></b>\n",
    "<font color='red'> Define a matrix named original_array with some values. Create a copy of this array named copy_array. Now change the first element of the copy_array and then print original_array and copy_array.\n",
    "<br> Note - While printing you have to make sure that only the copy_array is changed and not the original_array.</br></font>\n",
    "\n",
    "<b> Example </b>\n",
    "- original_array = [2 , 4 ,6 , 8]\n",
    "- copy_array = [ 2, 4, 6 ,8 ]\n",
    "<br> Modify the first element of copy array to 10 and then print both arrays </br>\n",
    "- original_array = [2 ,4, 6, 8]\n",
    "- copy_array = [10, 4, 6, 8]\n",
    "\n"
   ]
  },
  {
   "cell_type": "code",
   "execution_count": 14,
   "metadata": {
    "id": "1v_2szRKgVPq"
   },
   "outputs": [
    {
     "name": "stdout",
     "output_type": "stream",
     "text": [
      "Before modifications,\n",
      "\toriginal_array = [2 4 6 8]\n",
      "\tcopy_array = [2 4 6 8]\n",
      "\n",
      "After modifications,\n",
      "\tFirst element of original_array = 2\n",
      "\tFirst element of copy_array = 0\n"
     ]
    }
   ],
   "source": [
    "# define your original_array and copy array\n",
    "# WRITE CODE BELOW\n",
    "original_array = np.array([2, 4, 6, 8])\n",
    "\n",
    "# make a copy\n",
    "copy_array = original_array.copy()\n",
    "\n",
    "# print out both arrays before any modification\n",
    "print(\"Before modifications,\")\n",
    "print(f\"\\toriginal_array = {original_array}\")\n",
    "print(f\"\\tcopy_array = {copy_array}\")\n",
    "\n",
    "# modify the first element of copy_array\n",
    "copy_array[0] = 0\n",
    "\n",
    "# print both original and copy_array\n",
    "print(\"\\nAfter modifications,\")\n",
    "print(f\"\\tFirst element of original_array = {original_array[0]}\")\n",
    "print(f\"\\tFirst element of copy_array = {copy_array[0]}\")"
   ]
  },
  {
   "cell_type": "markdown",
   "metadata": {
    "id": "TJpxO51ujTsa"
   },
   "source": [
    "#### <b> <font color='red'> Que 8 - Concatenating the arrays along different axes</b> </font>\n",
    "<font color='red'> Given two matrices array_1 and array_2 as follows </font>\n",
    "\n",
    "array_1 = $$\\begin{bmatrix} 10 & 20  \\\\ 30 & 40  \\end{bmatrix}$$\n",
    "array_2 = $$\\begin{bmatrix} 50 & 60  \\\\ 70 & 80  \\end{bmatrix}$$\n",
    "\n",
    "<font color='red'> You have to concatenate array_1 and array_2 row-wise and column wise such that the result matrices are as follows.\n",
    "\n",
    "row_concat_array = $$\\begin{bmatrix} 10 & 20  \\\\ 30 & 40 \\\\ 50 & 60  \\\\ 70 & 80  \\end{bmatrix}$$\n",
    "col_concat_array = $$\\begin{bmatrix} 10 & 20 & 50 & 60  \\\\ 30 & 40  & 70 &80 \\end{bmatrix}$$\n"
   ]
  },
  {
   "cell_type": "code",
   "execution_count": 15,
   "metadata": {
    "id": "sffMn4oTfyy2"
   },
   "outputs": [
    {
     "name": "stdout",
     "output_type": "stream",
     "text": [
      "row_concat_array = \n",
      "[[10 20]\n",
      " [30 40]\n",
      " [50 60]\n",
      " [70 80]]\n",
      "\n",
      "col_concat_array = \n",
      "[[10 20 50 60]\n",
      " [30 40 70 80]]\n",
      "\n"
     ]
    }
   ],
   "source": [
    "# Defining array_1 and array_2\n",
    "array_1 = np.array([[10, 20], [30, 40]])\n",
    "array_2 = np.array([[50, 60], [70, 80]])\n",
    "\n",
    "# concatenate both the arrays row wise and column wise\n",
    "# WRITE CODE BELOW\n",
    "\n",
    "# concatenate the rows without passing an axis\n",
    "row_concat_array = np.concatenate((array_1, array_2))\n",
    "\n",
    "# concatenate the columns and pass the axis value\n",
    "col_concat_array = np.concatenate((array_1, array_2), axis=1)\n",
    "\n",
    "# print out the arrays\n",
    "print(f\"row_concat_array = \\n{row_concat_array}\\n\")\n",
    "print(f\"col_concat_array = \\n{col_concat_array}\\n\")"
   ]
  },
  {
   "cell_type": "markdown",
   "metadata": {
    "id": "aOS257K-hZuG"
   },
   "source": [
    "#### <b> <font color='red'> Que 8 Broadcasting the arrays </b>\n",
    "If the dimensions of two arrays are dissimilar, element-to-element operations are not possible. However, operations on arrays of non-similar shapes is still possible in NumPy, because of the broadcasting capability. The smaller array is broadcast to the size of the larger array so that they have compatible shapes </font>"
   ]
  },
  {
   "cell_type": "markdown",
   "metadata": {
    "id": "AzKya5bzkzPx"
   },
   "source": [
    "<font color='red'> Que 8.1 - Consider an array my_array of size 1 x 5 . Increment each element of the array by 1 and store it in  result _array</font>\n",
    "\n",
    "<b> Example </b>\n",
    "<br> my_array = [ 5 , 12, 7 ,3] </br>\n",
    "<br> result_array = [ 6, 13 , 8, 4]. </br>\n"
   ]
  },
  {
   "cell_type": "code",
   "execution_count": 16,
   "metadata": {
    "id": "WBjiOk9Ik-Qy"
   },
   "outputs": [
    {
     "name": "stdout",
     "output_type": "stream",
     "text": [
      "my_array = [ 5 12  7  3]\n",
      "result_array = [ 6 13  8  4]\n"
     ]
    }
   ],
   "source": [
    "# define my_array\n",
    "my_array = np.array([5, 12, 7, 3])\n",
    "\n",
    "# Increment each element of my_array by 1\n",
    "# WRITE CODE BELOW\n",
    "result_array = my_array + 1\n",
    "\n",
    "print(f\"my_array = {my_array}\")\n",
    "print(f\"result_array = {result_array}\")"
   ]
  },
  {
   "cell_type": "markdown",
   "metadata": {
    "id": "AxbbqFrEmTZ4"
   },
   "source": [
    "<font color='red'> Que 2 - Consider an array of size of size 3x3 . You have to increment each element of column 1 by 5, column 2 by 10 and column 3 by 15. </font> </br>\n",
    "my_array = $$\\begin{bmatrix} 5 & 0 & 3  \\\\ 3 & 4 & 6 \\\\ 8& 0 & 7 \\end{bmatrix}$$\n",
    "\n",
    "result_array = $$\\begin{bmatrix} 10 & 10 & 18  \\\\ 8 & 14 & 21 \\\\ 13 & 10 & 22 \\end{bmatrix}$$"
   ]
  },
  {
   "cell_type": "code",
   "execution_count": 17,
   "metadata": {
    "id": "0HRCih7m0p4r"
   },
   "outputs": [
    {
     "name": "stdout",
     "output_type": "stream",
     "text": [
      "my_array =\n",
      "[[5 0 3]\n",
      " [3 4 6]\n",
      " [8 0 7]]\n",
      "\n",
      "result_array =\n",
      "[[10 10 18]\n",
      " [ 8 14 21]\n",
      " [13 10 22]]\n",
      "\n"
     ]
    }
   ],
   "source": [
    "# define my_array\n",
    "my_array = np.array([[5, 0, 3], [3, 4, 6], [8, 0, 7]])\n",
    "\n",
    "# Increment column_1 by 5, column_2 by 10 and column_3 by 15\n",
    "# WRITE CODE BELOW\n",
    "\n",
    "# create an array that contains what you need to increment my_array by\n",
    "increment_array = np.array([5, 10, 15])\n",
    "\n",
    "# use the built in add function to increment my_array as instructed and store it in result_array\n",
    "result_array = np.add(my_array, increment_array)\n",
    "\n",
    "# print out the arrays\n",
    "print(f\"my_array =\\n{my_array}\\n\")\n",
    "print(f\"result_array =\\n{result_array}\\n\")"
   ]
  },
  {
   "cell_type": "code",
   "execution_count": null,
   "metadata": {
    "id": "AReaFzKNq8ke"
   },
   "outputs": [],
   "source": []
  },
  {
   "cell_type": "markdown",
   "metadata": {
    "id": "ogC_1TmUq2bm"
   },
   "source": [
    "#<b> END OF ASSIGNMENT <b>"
   ]
  }
 ],
 "metadata": {
  "colab": {
   "collapsed_sections": [],
   "provenance": []
  },
  "kernelspec": {
   "display_name": "Python (sklearn-env)",
   "language": "python",
   "name": "sklearn-env"
  },
  "language_info": {
   "codemirror_mode": {
    "name": "ipython",
    "version": 3
   },
   "file_extension": ".py",
   "mimetype": "text/x-python",
   "name": "python",
   "nbconvert_exporter": "python",
   "pygments_lexer": "ipython3",
   "version": "3.12.3"
  }
 },
 "nbformat": 4,
 "nbformat_minor": 1
}
