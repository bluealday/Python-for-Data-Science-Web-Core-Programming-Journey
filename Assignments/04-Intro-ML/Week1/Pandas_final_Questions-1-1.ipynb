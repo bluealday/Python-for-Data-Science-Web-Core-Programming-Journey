{
 "cells": [
  {
   "cell_type": "markdown",
   "metadata": {},
   "source": [
    "<html>\n",
    "<body>\n",
    "<h1 style=\"background-color: #022851;\"><center>\n",
    "    <br><font size=\"+3.5\">\n",
    "    <font color=#FFBF00><b>Introduction to Machine Learning</b></font>\n",
    "   </font>\n",
    "    <br><font size=\"+1\">\n",
    "    <font color=#FFBF00><b>WEEK 1 | PROBLEM SET 2 (Pandas) </b></font>\n",
    "   </font>\n",
    "    <br><font size=\"+1\">\n",
    "    <font color=#FFBF00><b>Name:</b> Blue Ferdinand Alday </font> <br>\n",
    "    <font color=#FFBF00><b>Due Date:</b> 9/15/2024 </font>\n",
    "   </font> \n",
    "    </center>\n",
    "</h1>\n",
    "</body>\n",
    "</html>\n"
   ]
  },
  {
   "cell_type": "code",
   "execution_count": 1,
   "metadata": {
    "id": "lPsplrBimhk1"
   },
   "outputs": [],
   "source": [
    "import pandas as pd"
   ]
  },
  {
   "cell_type": "markdown",
   "metadata": {
    "id": "ECzXEibBoQ5K"
   },
   "source": [
    "## Instructions\n",
    "1. Do not import any other library. \n",
    "2. This assignment primarily focuses on getting a hands on practise for pandas library.\n",
    "3. You have to use the \n",
    " <a href=\"https://drive.google.com/file/d/1uLqrgjqF0143NQjPlRGWqZRmW6FYBy_N/view?usp=sharing\">alcohol_data.csv</a>\n",
    "alochol_data.csv for this assignment.\n",
    "4. Do not modify the variables name. We have defined the assert function which will return True if you have written the queries correctly and the variables name are not changed.\n",
    "5. Do not modify anything in the grader function.\n",
    "6. Go through these resources in order ro learn and practise pandas operations : <a href=\"https://www.w3resource.com/python-exercises/pandas/index-dataframe.php\">Resource 1 </a> , <a href=\"https://www.tutorialspoint.com/python_pandas/index.htm\">Resource 2 </a>\n",
    "6. You can also read the documentation of all pandas functions from this <a href=\"https://pandas.pydata.org/docs/getting_started/tutorials.html\">Link </a>"
   ]
  },
  {
   "cell_type": "markdown",
   "metadata": {
    "id": "usgazAxUrUac"
   },
   "source": [
    "#### <b> <font color='red'> Que 1 - Reading the csv file </b>   -> Read the alcohol_data.csv file and store it in a dataframe </font>\n",
    "\n",
    "\n"
   ]
  },
  {
   "cell_type": "code",
   "execution_count": 2,
   "metadata": {
    "id": "tWHbHXrnC-1s"
   },
   "outputs": [],
   "source": [
    "# Please make sure that you define the dataframe name as alcohol_df\n",
    "alcohol_df = pd.read_csv(\"alcohol_data.csv\")"
   ]
  },
  {
   "cell_type": "code",
   "execution_count": 3,
   "metadata": {
    "id": "kP5vsNB6DsJi"
   },
   "outputs": [
    {
     "name": "stdout",
     "output_type": "stream",
     "text": [
      "ASEERT 1 passed\n"
     ]
    }
   ],
   "source": [
    "def assert_1(df):\n",
    "    assert len(df) == 193\n",
    "    print(\"ASEERT 1 passed\")\n",
    "\n",
    "\n",
    "assert_1(alcohol_df)"
   ]
  },
  {
   "cell_type": "code",
   "execution_count": 4,
   "metadata": {
    "id": "ducUVu0gEdk5"
   },
   "outputs": [
    {
     "data": {
      "text/html": [
       "<div>\n",
       "<style scoped>\n",
       "    .dataframe tbody tr th:only-of-type {\n",
       "        vertical-align: middle;\n",
       "    }\n",
       "\n",
       "    .dataframe tbody tr th {\n",
       "        vertical-align: top;\n",
       "    }\n",
       "\n",
       "    .dataframe thead th {\n",
       "        text-align: right;\n",
       "    }\n",
       "</style>\n",
       "<table border=\"1\" class=\"dataframe\">\n",
       "  <thead>\n",
       "    <tr style=\"text-align: right;\">\n",
       "      <th></th>\n",
       "      <th>country</th>\n",
       "      <th>beer_servings</th>\n",
       "      <th>spirit_servings</th>\n",
       "      <th>wine_servings</th>\n",
       "      <th>total_litres_of_pure_alcohol</th>\n",
       "      <th>continent</th>\n",
       "    </tr>\n",
       "  </thead>\n",
       "  <tbody>\n",
       "    <tr>\n",
       "      <th>0</th>\n",
       "      <td>Algeria</td>\n",
       "      <td>25</td>\n",
       "      <td>0</td>\n",
       "      <td>14</td>\n",
       "      <td>0.7</td>\n",
       "      <td>AF</td>\n",
       "    </tr>\n",
       "    <tr>\n",
       "      <th>1</th>\n",
       "      <td>Angola</td>\n",
       "      <td>217</td>\n",
       "      <td>57</td>\n",
       "      <td>45</td>\n",
       "      <td>5.9</td>\n",
       "      <td>AF</td>\n",
       "    </tr>\n",
       "    <tr>\n",
       "      <th>2</th>\n",
       "      <td>Benin</td>\n",
       "      <td>34</td>\n",
       "      <td>4</td>\n",
       "      <td>13</td>\n",
       "      <td>1.1</td>\n",
       "      <td>AF</td>\n",
       "    </tr>\n",
       "    <tr>\n",
       "      <th>3</th>\n",
       "      <td>Botswana</td>\n",
       "      <td>173</td>\n",
       "      <td>35</td>\n",
       "      <td>35</td>\n",
       "      <td>5.4</td>\n",
       "      <td>AF</td>\n",
       "    </tr>\n",
       "    <tr>\n",
       "      <th>4</th>\n",
       "      <td>Burkina Faso</td>\n",
       "      <td>25</td>\n",
       "      <td>7</td>\n",
       "      <td>7</td>\n",
       "      <td>4.3</td>\n",
       "      <td>AF</td>\n",
       "    </tr>\n",
       "  </tbody>\n",
       "</table>\n",
       "</div>"
      ],
      "text/plain": [
       "        country  beer_servings  spirit_servings  wine_servings  \\\n",
       "0       Algeria             25                0             14   \n",
       "1        Angola            217               57             45   \n",
       "2         Benin             34                4             13   \n",
       "3      Botswana            173               35             35   \n",
       "4  Burkina Faso             25                7              7   \n",
       "\n",
       "   total_litres_of_pure_alcohol continent  \n",
       "0                           0.7        AF  \n",
       "1                           5.9        AF  \n",
       "2                           1.1        AF  \n",
       "3                           5.4        AF  \n",
       "4                           4.3        AF  "
      ]
     },
     "execution_count": 4,
     "metadata": {},
     "output_type": "execute_result"
    }
   ],
   "source": [
    "# printing the first 5 rows of alcohol_data\n",
    "# you can have a glimpse of the dataset you are dealing with\n",
    "# head function will print first 5 rows and the corresponding values\n",
    "alcohol_df.head(5)"
   ]
  },
  {
   "cell_type": "markdown",
   "metadata": {
    "id": "7Stfp7WYELTz"
   },
   "source": [
    "#### <b> <font color='red'> Que 2 - Getting columns of the dataframe </b>   -> Write a query to get all the columns of the dataframe and store it in a list named as columns_list </font>\n",
    "\n",
    "If you write your query correctly you'll get </br>\n",
    "columns_list = ['country', 'beer_servings', 'spirit_servings', 'wine_servings', 'total_litres_of_pure_alcohol', 'continent']"
   ]
  },
  {
   "cell_type": "code",
   "execution_count": 5,
   "metadata": {
    "id": "gzb9i23UrXgW"
   },
   "outputs": [
    {
     "name": "stdout",
     "output_type": "stream",
     "text": [
      "columns_list = ['country', 'beer_servings', 'spirit_servings', 'wine_servings', 'total_litres_of_pure_alcohol', 'continent']\n"
     ]
    }
   ],
   "source": [
    "# retrieve column names from dataframe and store in a list\n",
    "columns_list = list(alcohol_df.columns)\n",
    "print(f\"columns_list = {columns_list}\")"
   ]
  },
  {
   "cell_type": "code",
   "execution_count": 6,
   "metadata": {
    "id": "vBCzMRqHsl3W"
   },
   "outputs": [
    {
     "name": "stdout",
     "output_type": "stream",
     "text": [
      "ASEERT 2 passed\n"
     ]
    }
   ],
   "source": [
    "def assert_2(col_list):\n",
    "    assert len(col_list) == 6\n",
    "    assert type(col_list) == list\n",
    "    print(\"ASEERT 2 passed\")\n",
    "\n",
    "\n",
    "assert_2(columns_list)"
   ]
  },
  {
   "cell_type": "markdown",
   "metadata": {
    "id": "ANAfQvfXmuar"
   },
   "source": [
    "#### <b> <font color='red'> Que 3 - Getting unique values from continent </b>   -> Write a query to fetch all the unique continent names from column continent and store it in a list </font>\n",
    "\n",
    "Example - continents_list = ['AF', 'AS', 'EU', 'A', 'OC', 'SA']\n",
    "\n",
    "\n",
    "\n"
   ]
  },
  {
   "cell_type": "code",
   "execution_count": 7,
   "metadata": {
    "id": "OSO2zdyXmlMd"
   },
   "outputs": [],
   "source": [
    "# retrieve unique data from column 'continent' using the unique function and store in a list\n",
    "continents_list = list(alcohol_df[\"continent\"].unique())"
   ]
  },
  {
   "cell_type": "code",
   "execution_count": 8,
   "metadata": {
    "id": "qquA6AtxNUUq"
   },
   "outputs": [
    {
     "name": "stdout",
     "output_type": "stream",
     "text": [
      "ASEERT 3 passed\n"
     ]
    }
   ],
   "source": [
    "def assert_3(con_list):\n",
    "    assert type(con_list) == list\n",
    "    assert len(con_list) == 6\n",
    "    assert \"AF\" in con_list and \"OC\" in con_list\n",
    "    print(\"ASEERT 3 passed\")\n",
    "\n",
    "\n",
    "assert_3(continents_list)"
   ]
  },
  {
   "cell_type": "markdown",
   "metadata": {
    "id": "veaheGuEN8nP"
   },
   "source": [
    "#### <b> <font color='red'> Que 4 - Getting the max value of beer servings </b>   -> Write a query to get the maximum value of beer_servings from the table and store it in max_beer_servings table </font>"
   ]
  },
  {
   "cell_type": "code",
   "execution_count": 9,
   "metadata": {
    "id": "9FxJBeEON8C0"
   },
   "outputs": [],
   "source": [
    "# use the max function to get the largest values from the 'beer_servings' column\n",
    "max_beer_servings = alcohol_df[\"beer_servings\"].max()"
   ]
  },
  {
   "cell_type": "code",
   "execution_count": 10,
   "metadata": {
    "id": "_DJhYeMeP8Nk"
   },
   "outputs": [
    {
     "name": "stdout",
     "output_type": "stream",
     "text": [
      "ASEERT 4 passed\n"
     ]
    }
   ],
   "source": [
    "def assert_4(max_beer_servings):\n",
    "    assert max_beer_servings == 376\n",
    "    print(\"ASEERT 4 passed\")\n",
    "\n",
    "\n",
    "assert_4(max_beer_servings)"
   ]
  },
  {
   "cell_type": "markdown",
   "metadata": {
    "id": "XKLaz45ovqun"
   },
   "source": [
    "#### <b> <font color='red'> Que 5 - Getting the subset of data  </b>  -> Write a query to fetch all the rows where wine_servings is more than 30 and store it in a variable named wine_servings_30</font>\n",
    "\n",
    "\n",
    "<br> <b>  Example - If you write your query correctly then you'll get a dataframe with 64 rows</b> </br>\n",
    "\n",
    "\n"
   ]
  },
  {
   "cell_type": "code",
   "execution_count": 11,
   "metadata": {
    "id": "6ZEYkqoGwUv_"
   },
   "outputs": [],
   "source": [
    "# use the where built in function to get values > 30 (see https://pandas.pydata.org/docs/user_guide/indexing.html)\n",
    "wine_servings_30 = alcohol_df[\"wine_servings\"][alcohol_df[\"wine_servings\"] > 30]"
   ]
  },
  {
   "cell_type": "code",
   "execution_count": 12,
   "metadata": {
    "id": "HPc-w2-lBeWu"
   },
   "outputs": [
    {
     "name": "stdout",
     "output_type": "stream",
     "text": [
      "ASEERT 5 passed\n"
     ]
    }
   ],
   "source": [
    "def assert_5(df):\n",
    "    assert len(df) == 64\n",
    "    print(\"ASEERT 5 passed\")\n",
    "\n",
    "\n",
    "assert_5(wine_servings_30)"
   ]
  },
  {
   "cell_type": "markdown",
   "metadata": {
    "id": "Tx1lKbO6xMDT"
   },
   "source": [
    "#### <b> <font color='red'> Que 6 - Getting subset of data with multiple conditions - </b> Write a query to fetch all rows where beer_servings is greater than 100 and are in Asia continet(AS) and store it in varible named df_6</font>  \n",
    "<font color='red'> \n",
    "<font color='red'> \n",
    "\n",
    "\n",
    "\n"
   ]
  },
  {
   "cell_type": "code",
   "execution_count": 13,
   "metadata": {
    "id": "srGlS_Gj1sc2"
   },
   "outputs": [],
   "source": [
    "# use the dataframe.query method to specify multiple criteria to get the subset of data\n",
    "df_6 = alcohol_df.query(\"beer_servings > 100 and continent == 'AS'\")"
   ]
  },
  {
   "cell_type": "code",
   "execution_count": 14,
   "metadata": {
    "id": "e4IPK1sWBeWv"
   },
   "outputs": [
    {
     "name": "stdout",
     "output_type": "stream",
     "text": [
      "ASEERT 6 passed\n"
     ]
    }
   ],
   "source": [
    "def assert_6(df):\n",
    "    assert len(df) == 4\n",
    "    print(\"ASEERT 6 passed\")\n",
    "\n",
    "\n",
    "assert_6(df_6)"
   ]
  },
  {
   "cell_type": "markdown",
   "metadata": {
    "id": "Erxa07sonxzx"
   },
   "source": [
    "#### <b> <font color='red'> Que 7 - Sorting the dataframe - </b> Write a query to sort the dataframe by spirits serving and find 5 countries that have <br>\n",
    "- the highest spirit_servings\n",
    "- the least spirit_servings </font>  \n",
    "\n"
   ]
  },
  {
   "cell_type": "code",
   "execution_count": 15,
   "metadata": {
    "id": "ecIDawHW3zlt"
   },
   "outputs": [
    {
     "name": "stdout",
     "output_type": "stream",
     "text": [
      "The 5 highest spirit_servings by country are:\n",
      "['Grenada', 'Belarus', 'Haiti', 'Russian Federation', 'St. Lucia']\n",
      "The 5 least spirit_servings by country are:\n",
      "['Laos', 'Maldives', 'Pakistan', 'Monaco', 'Yemen']\n"
     ]
    }
   ],
   "source": [
    "# there is no grader function for this query\n",
    "# add a markdown cell and write the name of required\n",
    "# write your CODE below\n",
    "\n",
    "sorted_data = alcohol_df.sort_values(by=\"spirit_servings\", ascending=False)\n",
    "\n",
    "highest_spirit_servings_country_list = list(sorted_data[\"country\"].head(5))\n",
    "\n",
    "print(\"The 5 highest spirit_servings by country are:\")\n",
    "print(highest_spirit_servings_country_list)\n",
    "\n",
    "least_spirit_servings_country_list = list(sorted_data[\"country\"].tail(5))\n",
    "\n",
    "print(\"The 5 least spirit_servings by country are:\")\n",
    "print(least_spirit_servings_country_list)"
   ]
  },
  {
   "cell_type": "code",
   "execution_count": 16,
   "metadata": {
    "id": "Yg87m2V-BLAb"
   },
   "outputs": [
    {
     "name": "stdout",
     "output_type": "stream",
     "text": [
      "ASSERT 7 passed\n",
      "ASSERT 7 passed\n"
     ]
    }
   ],
   "source": [
    "# added an assert function\n",
    "\n",
    "\n",
    "def assert_7(spirit_serviings_list):\n",
    "    assert len(spirit_serviings_list) == 5\n",
    "    assert type(spirit_serviings_list) == list\n",
    "    print(\"ASSERT 7 passed\")\n",
    "\n",
    "\n",
    "assert_7(highest_spirit_servings_country_list)\n",
    "assert_7(least_spirit_servings_country_list)"
   ]
  },
  {
   "cell_type": "markdown",
   "metadata": {
    "id": "QmdGhjwTrNXK"
   },
   "source": [
    "#### <b> <font color='red'> Que 8 - Group by - Write a query to fetch the total numer of beer_servings for each continent </font>  </b>\n",
    "\n",
    "\n",
    "\n",
    "<br> <b>  Hint - You'll get the value for Asia Continent = 1630 </b> </br>\n"
   ]
  },
  {
   "cell_type": "code",
   "execution_count": 17,
   "metadata": {
    "id": "TqpcikPB7-Mt"
   },
   "outputs": [
    {
     "name": "stdout",
     "output_type": "stream",
     "text": [
      "           beer_servings\n",
      "continent               \n",
      "A                   3345\n",
      "AF                  3258\n",
      "AS                  1630\n",
      "EU                  8720\n",
      "OC                  1435\n",
      "SA                  2101\n",
      "<class 'pandas.core.frame.DataFrame'>\n"
     ]
    }
   ],
   "source": [
    "# create a groupby criteria to find beer_servings by continent\n",
    "continent_df_1 = alcohol_df.groupby(\"continent\")[\"beer_servings\"].sum()\n",
    "\n",
    "# had to convert series to dataframe for assert to work\n",
    "continent_df_1 = continent_df_1.to_frame()\n",
    "\n",
    "# test the values returned\n",
    "print(continent_df_1)\n",
    "print(type(continent_df_1))"
   ]
  },
  {
   "cell_type": "code",
   "execution_count": 18,
   "metadata": {
    "id": "kVI6sCtu8UEn"
   },
   "outputs": [
    {
     "name": "stdout",
     "output_type": "stream",
     "text": [
      "ASEERT 8 passed\n"
     ]
    }
   ],
   "source": [
    "def assert_8(df):\n",
    "    assert len(df) == 6\n",
    "    assert df.loc[\"AS\"][\"beer_servings\"] == 1630\n",
    "    print(\"ASEERT 8 passed\")\n",
    "\n",
    "\n",
    "assert_8(continent_df_1)"
   ]
  },
  {
   "cell_type": "markdown",
   "metadata": {
    "id": "JBGDfton4P14"
   },
   "source": [
    "#### <b> <font color='red'> Que 9 - Adding a new column </b> </br> Create a new column in the dataframe alcohol_df called total_servings which is the sum of beer_servings, spirit_servings, wine_servings </font>  \n"
   ]
  },
  {
   "cell_type": "code",
   "execution_count": 19,
   "metadata": {
    "id": "fpbMmQvUpxQt"
   },
   "outputs": [],
   "source": [
    "# add a new column in the dataframe\n",
    "alcohol_df[\"total_servings\"] = (\n",
    "    alcohol_df[\"beer_servings\"]\n",
    "    + alcohol_df[\"spirit_servings\"]\n",
    "    + alcohol_df[\"wine_servings\"]\n",
    ")"
   ]
  },
  {
   "cell_type": "code",
   "execution_count": 20,
   "metadata": {
    "colab": {
     "base_uri": "https://localhost:8080/"
    },
    "id": "EvUko-7E9fJT",
    "outputId": "8279bb73-c10c-42a4-c2c0-f681cf4dfe27"
   },
   "outputs": [
    {
     "name": "stdout",
     "output_type": "stream",
     "text": [
      "ASSERT 9 passed\n"
     ]
    }
   ],
   "source": [
    "def assert_9(df):\n",
    "    assert \"total_servings\" in list(df.columns)\n",
    "    assert df.loc[0][\"total_servings\"] == 39\n",
    "    print(\"ASSERT 9 passed\")\n",
    "\n",
    "\n",
    "assert_9(alcohol_df)"
   ]
  },
  {
   "cell_type": "markdown",
   "metadata": {
    "id": "8LgrEeNq4gsP"
   },
   "source": [
    "#### <b> <font color='red'> Que 10- Replacing values - </b></br> For countries that drink more than 200 servings of beer, change their (country names) names to \"beer_nation\" in alcohol_df dataframe</font>  \n"
   ]
  },
  {
   "cell_type": "code",
   "execution_count": 23,
   "metadata": {
    "id": "Jzxa1DfL4fM_"
   },
   "outputs": [],
   "source": [
    "# write code below\n",
    "# use Dataframe.loc for speed\n",
    "alcohol_df.loc[alcohol_df[\"beer_servings\"] > 200, \"country\"] = \"beer_nation\""
   ]
  },
  {
   "cell_type": "code",
   "execution_count": 24,
   "metadata": {
    "id": "fVdWZGhiBeWx"
   },
   "outputs": [
    {
     "name": "stdout",
     "output_type": "stream",
     "text": [
      "Assert 10 passed\n"
     ]
    }
   ],
   "source": [
    "def assert_10(df):\n",
    "    assert df[df[\"beer_servings\"] > 200][\"country\"].nunique() == 1\n",
    "    print(\"Assert 10 passed\")\n",
    "\n",
    "\n",
    "assert_10(alcohol_df)"
   ]
  },
  {
   "cell_type": "markdown",
   "metadata": {
    "id": "NIj2MlkvzedV"
   },
   "source": [
    "\n",
    "#### <b> <font color='red'> Que 11- Save the data frame as an Excel file with name updated_drinks_excel </font>  </b>"
   ]
  },
  {
   "cell_type": "code",
   "execution_count": 25,
   "metadata": {
    "id": "1RjUwLzf_fUH"
   },
   "outputs": [],
   "source": [
    "# save your dataframe alcohol_df in excel format\n",
    "alcohol_df.to_excel(\"updated_drinks_excel.xlsx\")"
   ]
  },
  {
   "cell_type": "markdown",
   "metadata": {
    "id": "ogC_1TmUq2bm"
   },
   "source": [
    "#<b> END OF ASSIGNMENT <b>"
   ]
  }
 ],
 "metadata": {
  "colab": {
   "collapsed_sections": [],
   "provenance": []
  },
  "kernelspec": {
   "display_name": "Python (sklearn-env)",
   "language": "python",
   "name": "sklearn-env"
  },
  "language_info": {
   "codemirror_mode": {
    "name": "ipython",
    "version": 3
   },
   "file_extension": ".py",
   "mimetype": "text/x-python",
   "name": "python",
   "nbconvert_exporter": "python",
   "pygments_lexer": "ipython3",
   "version": "3.12.3"
  }
 },
 "nbformat": 4,
 "nbformat_minor": 1
}
